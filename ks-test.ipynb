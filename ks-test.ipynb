{
 "cells": [
  {
   "cell_type": "code",
   "execution_count": 1,
   "id": "18fcee7e",
   "metadata": {},
   "outputs": [],
   "source": [
    "import numpy as np\n",
    "from scipy.stats import ks_2samp, ks_1samp, kstest\n",
    "import json\n",
    "import pandas as pd\n",
    "import matplotlib.pyplot as plt\n",
    "from random import choices\n",
    "import os"
   ]
  },
  {
   "cell_type": "code",
   "execution_count": 2,
   "id": "d4c2c834",
   "metadata": {},
   "outputs": [],
   "source": [
    "import re\n",
    "def match_regex_array(files, regex):\n",
    "    matches = [re.findall(regex, f) for f in files]\n",
    "    matches = [\"./sim_results/\" + m[0] for m in matches if len(m) > 0 ]\n",
    "    return matches"
   ]
  },
  {
   "cell_type": "code",
   "execution_count": 3,
   "id": "6ee54f32",
   "metadata": {},
   "outputs": [],
   "source": [
    "# Apply KS-test using a large number of samples from the reference distribution \n",
    "# and a small sample from a \"test\" (in this case, the Network-Aware) distribution multiple times\n",
    "# Each test sample represents a bot consuming contents from NA-distribution\n",
    "# Function returns the mean of the p_values for all KS-tests performed for each bot\n",
    "# and the proportion of null hypothesis rejection, i.e., samples were not generated from the same distribution\n",
    "def covertness_kstest(ref_dist, test_dist, population, ref_dist_size=10**6, test_dist_size=10**3, N_bots = 100, rounds=30):\n",
    "    p_values_mean_rounds = []\n",
    "    rejection_proportions_rounds = []\n",
    "    ref_dist_large_samples = choices(population, ref_dist, k=ref_dist_size)\n",
    "    for i in range(rounds):\n",
    "        p_values = []        \n",
    "        null_hypothesis_rejections = 0\n",
    "        for j in range(N_bots):\n",
    "            test_dist_samples = choices(population, test_dist, k=test_dist_size) # bot \"watches\" amount of contents\n",
    "            ks = ks_2samp(ref_dist_large_samples, test_dist_samples)\n",
    "            p_values.append(ks.pvalue)\n",
    "            if (ks.pvalue < 0.05):\n",
    "                null_hypothesis_rejections += 1\n",
    "        p_values_mean = np.mean(p_values)\n",
    "        null_hypothesis_rejections /= N_bots\n",
    "\n",
    "        p_values_mean_rounds.append(p_values_mean)\n",
    "        rejection_proportions_rounds.append(np.mean(null_hypothesis_rejections))\n",
    "    return p_values_mean_rounds, rejection_proportions_rounds"
   ]
  },
  {
   "cell_type": "code",
   "execution_count": 4,
   "id": "b4bdf637",
   "metadata": {},
   "outputs": [],
   "source": [
    "data_lastfm = json.load(open(\"./sim_results/sim_results_Ulastfm_pop0_a0.5_N2_C5_CPtop_Q0.5_L40.json\"))\n",
    "lastfm_size = len(data_lastfm['p0'])\n",
    "data_movielens = json.load(open(\"./sim_results/sim_results_Umovielens1k_pop1_a0.99_N2_C10_CPtop_Q0.9_L40.json\"))\n",
    "movielens_size = len(data_movielens['p0'])\n",
    "population_movielens = np.arange(movielens_size)\n",
    "population_lastfm = np.arange(lastfm_size)"
   ]
  },
  {
   "cell_type": "code",
   "execution_count": 5,
   "id": "b0c30dc3",
   "metadata": {},
   "outputs": [
    {
     "name": "stdout",
     "output_type": "stream",
     "text": [
      "KStest between large samples bs and a small sample NA (expected low p-value)\n",
      "p_value:  4.228678912365654e-08\n",
      "1.0\n"
     ]
    }
   ],
   "source": [
    "# Consistency Check - we should see a small p-value when comparing samples from pi_NA \n",
    "# and a high p-value when using samples from pi_bs\n",
    "# print(\"KStest between large samples bs and a small sample bs (expected high p-value)\")\n",
    "# p_values_means, proportion_means = covertness_kstest(data_movielens['pi_bs'], data_movielens['pi_bs'], population_movielens, ref_dist_size=10**3, test_dist_size=10**2, N_bots=20)\n",
    "# print(\"p_value: \" ,np.mean(p_values_means))\n",
    "# print(np.mean(proportion_means))\n",
    "print(\"KStest between large samples bs and a small sample NA (expected low p-value)\")\n",
    "p_values_means, proportion_means = covertness_kstest(data_movielens['pi_bs'], data_movielens['pi_final_NA'], population_movielens, ref_dist_size=10**3, test_dist_size=10**2, N_bots=50, rounds=100)\n",
    "print(\"p_value: \", np.mean(p_values_means))\n",
    "print(np.mean(proportion_means))\n"
   ]
  },
  {
   "cell_type": "code",
   "execution_count": 8,
   "id": "47798bae-a341-4dd0-9b2d-8bc1e987104c",
   "metadata": {},
   "outputs": [
    {
     "data": {
      "image/png": "[encoded data removed]",
      "text/plain": [
       "<Figure size 432x288 with 1 Axes>"
      ]
     },
     "metadata": {
      "needs_background": "light"
     },
     "output_type": "display_data"
    }
   ],
   "source": [
    "# It should have the shape of a normal distribution\n",
    "plt.hist(p_values_means)\n",
    "plt.show()"
   ]
  },
  {
   "cell_type": "code",
   "execution_count": 9,
   "id": "8b37d945-b3e3-484b-bcc4-53e5447c180f",
   "metadata": {},
   "outputs": [
    {
     "data": {
      "image/png": "[encoded data removed]",
      "text/plain": [
       "<Figure size 432x288 with 1 Axes>"
      ]
     },
     "metadata": {
      "needs_background": "light"
     },
     "output_type": "display_data"
    }
   ],
   "source": [
    "# It should have the shape of a normal distribution\n",
    "plt.hist(proportion_means)\n",
    "plt.show()"
   ]
  },
  {
   "cell_type": "code",
   "execution_count": 10,
   "id": "f3bc5906-34b3-4a94-a85c-f6112dc13eaf",
   "metadata": {},
   "outputs": [],
   "source": [
    "# Confidence Interval\n",
    "def confidence_interval(sample):\n",
    "    mean_hat = np.mean(sample)\n",
    "    std_hat = np.std(sample)\n",
    "    confidence_length = 2*(std_hat*1.96)/np.sqrt(len(sample))\n",
    "    U = mean_hat + confidence_length/2\n",
    "    L = mean_hat - confidence_length/2\n",
    "    return L, mean_hat, U\n",
    "# plt.plot(np.repeat(1, 3), [L,mean_hat, U])"
   ]
  },
  {
   "cell_type": "code",
   "execution_count": 11,
   "id": "ce177f42-4c15-405c-b481-712195696ccf",
   "metadata": {},
   "outputs": [],
   "source": [
    "# test_dist_sizes = np.linspace(10, 1000, 10).astype(int)\n",
    "# pvalues_mean_sample = []\n",
    "# proportion_mean_sample = []\n",
    "# for tds in test_dist_sizes:\n",
    "#     print(tds)\n",
    "#     p_values_means, proportion_means = covertness_kstest(data_movielens['pi_bs'], data_movielens['pi_final_NA'], population_movielens, ref_dist_size=10**4, test_dist_size=tds, N_bots=50, rounds=30)\n",
    "#     pvalues_mean_sample.append(p_values_means)\n",
    "#     proportion_mean_sample.append(proportion_means)"
   ]
  },
  {
   "cell_type": "code",
   "execution_count": 17,
   "id": "46abc77c-8a1a-456c-a23e-07efdabffd9b",
   "metadata": {},
   "outputs": [
    {
     "name": "stdout",
     "output_type": "stream",
     "text": [
      "10\n",
      "20\n",
      "30\n",
      "40\n"
     ]
    }
   ],
   "source": [
    "test_dist_sizes = np.linspace(10, 40, 4).astype(int)\n",
    "pvalues_mean_sample = []\n",
    "proportion_mean_sample = []\n",
    "confidence_intervals = []\n",
    "for tds in test_dist_sizes:\n",
    "    print(tds)\n",
    "    p_values_means, proportion_means = covertness_kstest(data_movielens['pi_bs'], data_movielens['pi_final_NA'], population_movielens, ref_dist_size=10**4, test_dist_size=tds, N_bots=50, rounds=30)\n",
    "    pvalues_mean_sample.append(p_values_means)\n",
    "    proportion_mean_sample.append(proportion_means)"
   ]
  },
  {
   "cell_type": "code",
   "execution_count": 18,
   "id": "a337ab78-bf30-4062-b7b9-932a5a83c62f",
   "metadata": {},
   "outputs": [
    {
     "data": {
      "text/plain": [
       "Text(0, 0.5, 'Proportion of Null Hypothesis Rejection')"
      ]
     },
     "execution_count": 18,
     "metadata": {},
     "output_type": "execute_result"
    },
    {
     "data": {
      "image/png": "[encoded data removed]",
      "text/plain": [
       "<Figure size 432x288 with 1 Axes>"
      ]
     },
     "metadata": {
      "needs_background": "light"
     },
     "output_type": "display_data"
    }
   ],
   "source": [
    "means = [np.mean(p) for p in proportion_mean_sample]\n",
    "plt.plot(test_dist_sizes, means)\n",
    "plt.xlabel(\"Perturbed Distribution Sample Size\")\n",
    "plt.ylabel(\"Proportion of Null Hypothesis Rejection\")"
   ]
  },
  {
   "cell_type": "code",
   "execution_count": 19,
   "id": "185263cd-28c3-4b22-8150-00f1adb40ac7",
   "metadata": {},
   "outputs": [
    {
     "data": {
      "text/plain": [
       "Text(0, 0.5, 'Proportion of Null Hypothesis Rejection')"
      ]
     },
     "execution_count": 19,
     "metadata": {},
     "output_type": "execute_result"
    },
    {
     "data": {
      "image/png": "[encoded data removed]",
      "text/plain": [
       "<Figure size 432x288 with 1 Axes>"
      ]
     },
     "metadata": {
      "needs_background": "light"
     },
     "output_type": "display_data"
    }
   ],
   "source": [
    "\n",
    "for i in range(len(proportion_mean_sample)):\n",
    "    mean_sample = proportion_mean_sample[i]\n",
    "    mean = np.mean(mean_sample)\n",
    "    ci = 1.96 * np.std(mean_sample)/np.sqrt(len(mean_sample))\n",
    "    plt.plot(np.repeat(test_dist_sizes[i], 3), [mean-ci, mean, mean+ci])\n",
    "\n",
    "plt.xlabel(\"Perturbed Distribution Sample Size\")\n",
    "plt.ylabel(\"Proportion of Null Hypothesis Rejection\")"
   ]
  },
  {
   "cell_type": "code",
   "execution_count": 17,
   "id": "a693046b",
   "metadata": {},
   "outputs": [],
   "source": [
    "def kstest_file(filename):\n",
    "    try:\n",
    "        with open(filename, 'r') as f:\n",
    "            DATA = json.load(f)\n",
    "        population = np.arange(len(DATA['p0']))\n",
    "        file_result = open(\"./kstests/baseline/\" + filename.split(\"/\")[-1], \"w\")\n",
    "        p_values_means, rejection_proportions_means = covertness_kstest(DATA['pi_bs'], DATA['pi_bs'], population, ref_dist_size=10**3, test_dist_size=10**2)\n",
    "        file_result.write(\"p_values_mean: {}, rejection proportion: {}\".format(p_values_mean, rejection_proportion))\n",
    "        file_result.close()\n",
    "    except Exception as e:\n",
    "        print(e)"
   ]
  },
  {
   "cell_type": "code",
   "execution_count": null,
   "id": "a2a54b37-8871-4fe0-b92e-0c55f9bd3813",
   "metadata": {},
   "outputs": [],
   "source": [
    "def plot_rejection_proportion():\n",
    "    "
   ]
  },
  {
   "cell_type": "code",
   "execution_count": null,
   "id": "c6125cb5",
   "metadata": {},
   "outputs": [
    {
     "name": "stdout",
     "output_type": "stream",
     "text": [
      "0/1060\n",
      "1/1060\n",
      "2/1060\n",
      "3/1060\n",
      "4/1060\n",
      "5/1060\n",
      "6/1060\n",
      "7/1060\n",
      "8/1060\n",
      "9/1060\n",
      "10/1060\n",
      "11/1060\n",
      "12/1060\n",
      "13/1060\n",
      "14/1060\n",
      "15/1060\n",
      "16/1060\n"
     ]
    }
   ],
   "source": [
    "files = os.listdir('./sim_results/')\n",
    "movielens_simulations_files = match_regex_array(files, r'sim_results_Umovielens.*')\n",
    "lastfm_simulations_files = match_regex_array(files, r'sim_results_Ulastfm.*')\n",
    "ks_movielens = []\n",
    "i = 0\n",
    "end = movielens_size\n",
    "for filename in movielens_simulations_files:\n",
    "    print(\"{}/{}\".format(i, end))\n",
    "    kstest_file(filename)\n",
    "    i+=1"
   ]
  },
  {
   "cell_type": "code",
   "execution_count": 139,
   "id": "50d1b121",
   "metadata": {},
   "outputs": [
    {
     "data": {
      "text/plain": [
       "0.1587782671880641"
      ]
     },
     "execution_count": 139,
     "metadata": {},
     "output_type": "execute_result"
    }
   ],
   "source": [
    "from scipy import stats\n",
    "rv = stats.expon(scale=1/0.247)\n",
    "rv.cdf(0.7)"
   ]
  },
  {
   "cell_type": "code",
   "execution_count": 178,
   "id": "5a9a545e",
   "metadata": {},
   "outputs": [],
   "source": [
    "exp_samples = stats.expon(scale=1/0.247).rvs(size=10**6)"
   ]
  },
  {
   "cell_type": "code",
   "execution_count": 179,
   "id": "aceedbad",
   "metadata": {},
   "outputs": [
    {
     "data": {
      "text/plain": [
       "KstestResult(statistic=0.000453357937850285, pvalue=0.9862728719610566)"
      ]
     },
     "execution_count": 179,
     "metadata": {},
     "output_type": "execute_result"
    }
   ],
   "source": [
    "ks_1samp(exp_samples, stats.expon(scale=1/0.247).cdf)"
   ]
  },
  {
   "cell_type": "code",
   "execution_count": 181,
   "id": "1b71d219",
   "metadata": {},
   "outputs": [],
   "source": [
    "# it seems that KStest doesn't work very well for discrete cdf. p value not making sense. It should be high.\n",
    "def cdf_(X):\n",
    "    if (type(X) == int):        \n",
    "        r = sum(data_movielens['pi_bs'][:X])\n",
    "    else:\n",
    "        r = [sum(data_movielens['pi_bs'][:x]) for x in X]\n",
    "    return r\n",
    "population = np.arange(movielens_size)\n",
    "samples = choices(population, data_movielens['pi_bs'], k=10**6)\n",
    "ks_1samp(samples, cdf_)"
   ]
  }
 ],
 "metadata": {
  "kernelspec": {
   "display_name": "Python 3 (ipykernel)",
   "language": "python",
   "name": "python3"
  },
  "language_info": {
   "codemirror_mode": {
    "name": "ipython",
    "version": 3
   },
   "file_extension": ".py",
   "mimetype": "text/x-python",
   "name": "python",
   "nbconvert_exporter": "python",
   "pygments_lexer": "ipython3",
   "version": "3.8.10"
  }
 },
 "nbformat": 4,
 "nbformat_minor": 5
}
