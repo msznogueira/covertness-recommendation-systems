{
 "cells": [
  {
   "cell_type": "code",
   "execution_count": 1,
   "id": "18fcee7e",
   "metadata": {},
   "outputs": [],
   "source": [
    "import numpy as np\n",
    "from scipy.stats import ks_2samp, ks_1samp, kstest\n",
    "import json\n",
    "import pandas as pd\n",
    "import matplotlib.pyplot as plt\n",
    "from random import choices\n",
    "import os\n",
    "from scipy.stats import bernoulli\n",
    "from scipy.stats import zipf"
   ]
  },
  {
   "cell_type": "code",
   "execution_count": 2,
   "id": "d4c2c834",
   "metadata": {},
   "outputs": [],
   "source": [
    "import re\n",
    "def match_regex_array(files, regex):\n",
    "    matches = [re.findall(regex, f) for f in files]\n",
    "    matches = [\"./sim_results/\" + m[0] for m in matches if len(m) > 0 ]\n",
    "    return matches"
   ]
  },
  {
   "cell_type": "code",
   "execution_count": 3,
   "id": "85af3d71-2347-4247-acf1-1128e909b191",
   "metadata": {},
   "outputs": [],
   "source": [
    "def get_selected_scenarios(simulator_path):    \n",
    "    U_MATRIX        = ['lastfm_U_matrix.mat', 'movielens1k_U_matrix.mat']\n",
    "    POPULARITY      = [0, 1]\n",
    "    ALPHA           = [0.99, 0.8, 0.5]\n",
    "    NN              = [2, 5, 10]\n",
    "    CACHE           = [10]#[5, 10, 20]\n",
    "    POLICY          = ['top']\n",
    "    QQ              = [0.5, 0.8, 0.9, 1.0]\n",
    "    LL              = [-1, 1, 40]   # L=1 corresponds to single-step (or, myopic) NA optim algorithm, and L=40 to sequential NA optim algorithm\n",
    "    W_bfs           = [1, 2] # this is times the N, i.e., 1*N, 2*N\n",
    "    D_bfs           = [2]\n",
    "    files = []\n",
    "    i=1\n",
    "    for U in U_MATRIX:\n",
    "        if U == 'lastfm_U_matrix.mat':\n",
    "            K = 757\n",
    "        else:\n",
    "            K = 1060\n",
    "        for pop in POPULARITY:\n",
    "            for a in ALPHA:\n",
    "                for N in NN:\n",
    "                    for C in CACHE:\n",
    "                        for cp in POLICY:\n",
    "                            for q in QQ:\n",
    "                                for L in LL:\n",
    "                                    for W in W_bfs:\n",
    "                                        for D in D_bfs:\n",
    "                                            if L>0:\n",
    "                                                out_file = simulator_path + 'sim_results/sim_results_U{}_pop{}_a{}_N{}_C{}_CP{}_Q{}_L{}.json'.format(U.split('_')[0], pop, a, N, C, cp, q, L)\n",
    "                                            else: \n",
    "                                                out_file = simulator_path + 'sim_results/sim_results_U{}_pop{}_a{}_N{}_C{}_CP{}_Q{}_cabaret_W{}_D{}.json'.format(U.split('_')[0], pop, a, N, C, cp, q, W, D)\n",
    "                                            if not os.path.exists(out_file):\n",
    "                                                continue\n",
    "                                            if L==1:\n",
    "                                                plot_format = 'ok'\n",
    "                                            elif L==40:\n",
    "                                                plot_format = 'xr'\n",
    "                                            elif L==-1:\n",
    "                                                plot_format = '^b'\n",
    "                                            else:\n",
    "                                                error('Not correct parameter L')\n",
    "                                            try:\n",
    "                                                files.append(out_file.split(\"/\")[-1])\n",
    "                                            except Exception as e:\n",
    "                                                print(e)\n",
    "                                                continue\n",
    "    return files"
   ]
  },
  {
   "cell_type": "code",
   "execution_count": 4,
   "id": "6ee54f32",
   "metadata": {},
   "outputs": [],
   "source": [
    "# Apply KS-test using a large number of samples from the reference distribution \n",
    "# and a small sample from a \"test\" (in this case, the Network-Aware) distribution multiple times\n",
    "# Each test sample represents a bot consuming contents from NA-distribution\n",
    "# Function returns the mean of the p_values for all KS-tests performed for each bot\n",
    "# and the proportion of null hypothesis rejection, i.e., samples were not generated from the same distribution\n",
    "def covertness_kstest(ref_dist, test_dist, population, ref_dist_size=10**6, test_dist_size=10**3, N_bots = 100, rounds=30):\n",
    "    p_values_mean_rounds = []\n",
    "    rejection_proportions_rounds = []\n",
    "    ref_dist_large_samples = choices(population, ref_dist, k=ref_dist_size)\n",
    "    for i in range(rounds):\n",
    "        p_values = []        \n",
    "        null_hypothesis_rejections = 0\n",
    "        for j in range(N_bots):\n",
    "            test_dist_samples = choices(population, test_dist, k=test_dist_size) # bot \"watches\" amount of contents\n",
    "            ks = ks_2samp(ref_dist_large_samples, test_dist_samples)\n",
    "            p_values.append(ks.pvalue)\n",
    "            if (ks.pvalue < 0.05):\n",
    "                null_hypothesis_rejections += 1\n",
    "        p_values_mean = np.mean(p_values)\n",
    "        null_hypothesis_rejections /= N_bots\n",
    "\n",
    "        p_values_mean_rounds.append(p_values_mean)\n",
    "        rejection_proportions_rounds.append(np.mean(null_hypothesis_rejections))\n",
    "    return p_values_mean_rounds, rejection_proportions_rounds"
   ]
  },
  {
   "cell_type": "code",
   "execution_count": 5,
   "id": "8b3c35f7-d215-406c-8d75-2b4431ad9b84",
   "metadata": {},
   "outputs": [],
   "source": [
    "# aggregated mode\n",
    "def covertness_kstest_aggregate(baseline_samples, test_dist, population, test_dist_size=10**3, N_bots = 100, rounds=30):\n",
    "    p_values_rounds = []\n",
    "    null_hypothesis_rejections = 0\n",
    "    for i in range(rounds):\n",
    "        # print(\"round \", i, end=' ')\n",
    "        test_agg_samples = []\n",
    "        for j in range(N_bots):\n",
    "            test_dist_samples = choices(population, test_dist, k=test_dist_size) # bot \"watches\" amount of contents\n",
    "            test_agg_samples += test_dist_samples\n",
    "        ks = ks_2samp(baseline_samples, test_agg_samples)\n",
    "        if (ks.pvalue < 0.05):\n",
    "            null_hypothesis_rejections += 1\n",
    "        p_values_rounds.append(ks.pvalue)        \n",
    "    return p_values_rounds, null_hypothesis_rejections/rounds"
   ]
  },
  {
   "cell_type": "code",
   "execution_count": 6,
   "id": "709022e8-30cd-487e-8ef7-21233adbcc0f",
   "metadata": {},
   "outputs": [],
   "source": [
    "# aggregated mode simplified\n",
    "def covertness_kstest_aggregate(baseline_samples, test_dist, population, test_dist_size=10**3, rounds=30):\n",
    "    p_values_rounds = []\n",
    "    null_hypothesis_rejections = 0\n",
    "    for i in range(rounds):\n",
    "        # print(\"round \", i, end=' ')\n",
    "        test_agg_samples = choices(population, test_dist, k=test_dist_size)\n",
    "        ks = ks_2samp(baseline_samples, test_agg_samples)\n",
    "        if (ks.pvalue < 0.05):\n",
    "            null_hypothesis_rejections += 1\n",
    "        p_values_rounds.append(ks.pvalue)        \n",
    "    return p_values_rounds, null_hypothesis_rejections/rounds\n"
   ]
  },
  {
   "cell_type": "code",
   "execution_count": 7,
   "id": "101137f2-18ef-48f4-b801-01c12e2c13f8",
   "metadata": {
    "tags": []
   },
   "outputs": [],
   "source": [
    "# aggregated mode RANDOM CONTENTS PER BOT\n",
    "# def covertness_kstest_aggregate_random_contents_per_bot(baseline_samples, test_dist, population, contents_per_user_population, contents_per_user_dist, N_bots = 100, rounds=30):\n",
    "#     p_values_rounds = []\n",
    "#     null_hypothesis_rejections = 0\n",
    "#     for i in range(rounds):\n",
    "#         # print(\"round \", i, end=' ')\n",
    "#         test_agg_samples = []\n",
    "#         for j in range(N_bots):\n",
    "#             test_dist_size = choices(contents_per_user_population, contents_per_user_dist, k=1)[0]\n",
    "#             test_dist_samples = choices(population, test_dist, k=test_dist_size) # bot \"watches\" amount of contents\n",
    "#             test_agg_samples += test_dist_samples\n",
    "#         # print(len(test_agg_samples), end=\",\")\n",
    "#         ks = ks_2samp(baseline_samples, test_agg_samples)\n",
    "#         if (ks.pvalue < 0.05):\n",
    "#             null_hypothesis_rejections += 1\n",
    "#         p_values_rounds.append(ks.pvalue)        \n",
    "#     return p_values_rounds, null_hypothesis_rejections/rounds"
   ]
  },
  {
   "cell_type": "code",
   "execution_count": 8,
   "id": "69c3b77e-501c-41cc-b4b1-d2d29cc3c0ce",
   "metadata": {},
   "outputs": [],
   "source": [
    "# random walker\n",
    "\n",
    "def covertness_kstest_random_walker(baseline_samples, p0, R, N, alpha, N_bots, contents_per_bot, rounds, R_top=False):\n",
    "    R = np.array(R)\n",
    "    p0 = np.array(p0)\n",
    "    population = np.arange(len(p0))\n",
    "    null_hypothesis_rejections = 0\n",
    "    for i in range(rounds):        \n",
    "        consumed = []\n",
    "        for j in range(N_bots):            \n",
    "            first_content = choices(population, p0, k=1)[0]            \n",
    "            consumed.append(first_content)\n",
    "            current_content = first_content\n",
    "            for k in range(contents_per_bot):\n",
    "                follow_recommendation = bernoulli.rvs(p=alpha, size=1)[0]\n",
    "                if follow_recommendation:\n",
    "                    ri = R[current_content, :]\n",
    "                    ri_idx = np.where(ri > 0)[0] # index of > 0 elements\n",
    "                    content = choices(population=ri_idx, weights=ri[ri_idx]/ri[ri_idx].sum(), k=1)[0]\n",
    "                else:\n",
    "                    content = choices(population, p0, k=1)[0]\n",
    "                current_content = content\n",
    "                consumed.append(current_content)\n",
    "        ks = ks_2samp(baseline_samples, consumed)\n",
    "        if (ks.pvalue < 0.05):\n",
    "            null_hypothesis_rejections += 1\n",
    "    return null_hypothesis_rejections/rounds\n",
    "                "
   ]
  },
  {
   "cell_type": "code",
   "execution_count": 9,
   "id": "b8616c80-d939-4cd1-a931-8d52c6c8bb4e",
   "metadata": {},
   "outputs": [],
   "source": [
    "from os.path import exists\n",
    "\n",
    "def ci_proportion(p_hat, n):\n",
    "    std_hat = np.sqrt((p_hat*(1-p_hat))/n)\n",
    "    lower = p_hat - 1.96*std_hat\n",
    "    upper = p_hat + 1.96*std_hat\n",
    "    return lower, p_hat, upper\n",
    "\n",
    "def save_confidence_intervals(cis, test_dist_sizes, rounds, bots):\n",
    "    filename = \"confidence_interval_test_size\" + \"tds\" + str(test_dist_sizes[0]) + \\\n",
    "        \"-\" + str(test_dist_sizes[-1]) + \"_rounds_\" + str(rounds) + \\\n",
    "        \"_bots_\" + str(bots) + \".txt\"\n",
    "    if (not exists(filename)):\n",
    "        lowers = np.array([cis[i][0] for i in range(len(cis))])\n",
    "        means = np.array([cis[i][1] for i in range(len(cis))])\n",
    "        uppers = np.array([cis[i][2] for i in range(len(cis))])\n",
    "        f = open(filename, \"w\")\n",
    "        n_intervals = len(means)\n",
    "        for i in range(n_intervals):            \n",
    "            f.write(str(lowers[i]) + \",\" + str(means[i]) + \",\" + \\\n",
    "                    str(uppers[i]) + \"\\n\")\n",
    "        f.close()\n",
    "    else:\n",
    "        print(\"{} file already exists\".format(filename))\n",
    "    "
   ]
  },
  {
   "cell_type": "code",
   "execution_count": 10,
   "id": "377cba32-5199-4501-8dd2-39e067293784",
   "metadata": {},
   "outputs": [],
   "source": [
    "def plot_confidence_intervals(x, filename, fig, ax, label, color):\n",
    "    try:\n",
    "        f = open(filename, \"r\")\n",
    "        cis = np.array([np.array(line.rstrip().split(\",\")).astype(float) for line in f.readlines()])        \n",
    "        lowers = np.around(cis[:, 0], decimals=2)\n",
    "        means = np.around(cis[:, 1], decimals=2)\n",
    "        uppers = np.around(cis[:, 2], decimals=2)\n",
    "        print(uppers)\n",
    "        if not fig or not ax:\n",
    "            fig, ax = plt.subplots()\n",
    "        ax.plot(x, means, label=label, color=color)\n",
    "        ax.fill_between(x, lowers, uppers, color=color, alpha=.1)\n",
    "#         plt.xlabel(\"Perturbed Distribution Sample\")\n",
    "        plt.xlabel(\"Contents per bot\")\n",
    "        plt.ylabel(\"Proportion of null hypothesis rejections\")\n",
    "        # plt.savefig(\"proportions_nbots30.png\")\n",
    "        # plt.show()\n",
    "    except Exception as e:\n",
    "        print(e)"
   ]
  },
  {
   "cell_type": "code",
   "execution_count": 11,
   "id": "31e52715-eec6-4dee-b569-f093144c0bc3",
   "metadata": {},
   "outputs": [],
   "source": [
    "def kl(p,q,alpha=0):\n",
    "\t'''\n",
    "\tReturns the KL distance between the two distributions p1 and p2. In case the parameter \"alpha\" is >0, it returns a smoothed version of the KL distance [Steck18].\n",
    "\tIf the KL distance diverges (becomes inf) then the function returns the value np.nan\n",
    "\n",
    "\t[Steck18] Harald Steck. 2018. Calibrated recommendations. In ACM RecSys. ACM, 154–162\n",
    "\t'''\n",
    "\td = [np.nan]*len(p) # initialize the list with the kl distance per item in the distribution\n",
    "\tq_smooth = [(1-alpha)*q[i]+ alpha*p[i]  for i in range(len(p))]\n",
    "\tfor i in range(len(p)):\n",
    "\t\tif p[i]==0:\n",
    "\t\t\td[i] = [0]\n",
    "\t\telse:\n",
    "\t\t\tif q_smooth[i]==0:\n",
    "\t\t\t\td[i] = np.nan # the KL metrics diverges (becomes inf)\n",
    "\t\t\telse:\n",
    "\t\t\t\td[i] = p[i]*np.log(p[i]/q_smooth[i])\n",
    "\tif alpha==0:\n",
    "\t\treturn np.sum(d)\n",
    "\telse:\n",
    "\t\treturn np.sum(d) / np.log(1/alpha)\n",
    "    \n",
    "def p_fairness(pNA,pBS,metric):\n",
    "\t'''\n",
    "\tThis method receives two lists, representing content demand distributions (p[i] is the fraction of demand for the i^{th} content), \n",
    "\tand a string that denotes which fairness measure will be used, \n",
    "\tand returns a value for the fairness measure (or, \"difference\") of the given lists\n",
    "\tInput:\n",
    "\t\tpNA: a list of the first content demand distribution; this correspongs to the network-aware (NA) RS case\n",
    "\t\tpBS: a list of the second content demand distribution (should be of the same length with pNA); this correspongs to the baseline (BS) RS case\n",
    "\t\tmetric: a string to denote which fairness measure to be used; it can take values {'avg', 'sum', 'max', 'kl', 'kl-smooth'}\n",
    "\n",
    "\t'''\n",
    "\tif metric=='avg':\n",
    "\t\tf = 0.5 * np.sum([np.abs(pNA[i]-pBS[i]) for i in range(len(pNA))])\n",
    "\telif metric=='sum':\n",
    "\t\tf = np.sum([np.abs(pNA[i]-pBS[i]) for i in range(len(pNA))])\n",
    "\telif metric=='max':\n",
    "\t\tr = [np.abs(pNA[i]-pBS[i]) for i in range(len(pNA))]\n",
    "\t\tf = np.max([np.abs(pNA[i]-pBS[i]) for i in range(len(pNA))])\n",
    "\telif metric=='kl':\n",
    "\t\tf = kl(pNA,pBS)\n",
    "\telif metric=='kl-inv':\n",
    "\t\tf = kl(pBS,pNA)\n",
    "\telif metric=='kl-smooth':\n",
    "\t\tf = kl(pNA,pBS,alpha=0.01)\n",
    "\telif metric=='kl-smooth-inv':\n",
    "\t\tf = kl(pBS,pNA,alpha=0.01)\n",
    "\telse:\n",
    "\t\traise ValueError('The given metric \"{}\" is not within the available options'.format(metric))\n",
    "\treturn f"
   ]
  },
  {
   "cell_type": "code",
   "execution_count": 12,
   "id": "147c3fa6-e871-4810-b2f7-c42d40d06908",
   "metadata": {},
   "outputs": [],
   "source": [
    "def rejections_in_function_of_sample_size_and_fairness(file, n_bots = 10, n_rounds=30, f_metrics=['max', 'avg', 'kl-smooth-inv']):\n",
    "    # x test sample sizes VARIES\n",
    "    # y fairness CONSTANT\n",
    "    # z rejections VARIES\n",
    "    alpha = float(file.split('/sim_results_')[1].split('_')[2][1:])\n",
    "    N = int(file.split('/sim_results_')[1].split('_')[3][1:])\n",
    "    data = json.load(open(file))\n",
    "    ref_dist_size=10**3\n",
    "    ref_dist = data['pi_bs']\n",
    "    catalog_size = len(data['p0'])\n",
    "    population = np.arange(catalog_size)\n",
    "    ref_dist_samples = choices(population, ref_dist, k=ref_dist_size)\n",
    "    proportions = []\n",
    "    test_sample_sizes = np.linspace(10, 100, 10).astype(int)\n",
    "    for tds in test_sample_sizes:\n",
    "#         print(tds, end=',')\n",
    "        contents_per_bot = tds\n",
    "        proportion = covertness_kstest_random_walker(ref_dist_samples, \\\n",
    "                                                      data['p0'], \\\n",
    "                                                   data['R_NA'], \\\n",
    "                                                   N, alpha, n_bots,\\\n",
    "                                                   contents_per_bot,\\\n",
    "                                                   n_rounds)\n",
    "        proportions.append(proportion)\n",
    "#     print(file, end=',')\n",
    "    x = test_sample_sizes\n",
    "    y = proportions\n",
    "    z = {}\n",
    "    for f_metric in f_metrics:\n",
    "        fairness = p_fairness(data['pi_final_NA'], data['pi_bs'], f_metric)\n",
    "        z[f_metric] = np.repeat(fairness, len(x))    \n",
    "    return x, y, z\n",
    "\n",
    "    "
   ]
  },
  {
   "cell_type": "code",
   "execution_count": 14,
   "id": "0dda9e91-98be-45c9-aeca-9d84eb15081a",
   "metadata": {},
   "outputs": [],
   "source": [
    "path = \"/home/mateus/NFR-master/Simulator/sim_results/\"\n",
    "file = path + \"sim_results_Ulastfm_pop0_a0.5_N2_C5_CPtop_Q0.5_L40.json\"\n",
    "# file = path + \"sim_results_Ulastfm_pop0_a0.99_N2_C5_CPtop_Q0.5_L40.json\"\n",
    "x, y, z = rejections_in_function_of_sample_size_and_fairness(file)\n"
   ]
  },
  {
   "cell_type": "code",
   "execution_count": 15,
   "id": "8507e09b-3fbb-4ba0-ba82-c43be43ec2fd",
   "metadata": {},
   "outputs": [
    {
     "name": "stdout",
     "output_type": "stream",
     "text": [
      "{'max': array([0.19056045, 0.19056045, 0.19056045, 0.19056045, 0.19056045,\n",
      "       0.19056045, 0.19056045, 0.19056045, 0.19056045, 0.19056045]), 'avg': array([0.35668727, 0.35668727, 0.35668727, 0.35668727, 0.35668727,\n",
      "       0.35668727, 0.35668727, 0.35668727, 0.35668727, 0.35668727]), 'kl-smooth-inv': array([0.09389285, 0.09389285, 0.09389285, 0.09389285, 0.09389285,\n",
      "       0.09389285, 0.09389285, 0.09389285, 0.09389285, 0.09389285])}\n"
     ]
    }
   ],
   "source": [
    "# print(x)\n",
    "# print(y)\n",
    "print(z)"
   ]
  },
  {
   "cell_type": "code",
   "execution_count": 16,
   "id": "3af9f4a6-e2b7-4c52-8854-5279fa430136",
   "metadata": {},
   "outputs": [
    {
     "name": "stdout",
     "output_type": "stream",
     "text": [
      "1196\n",
      "893\n"
     ]
    }
   ],
   "source": [
    "# Getting non-optimal simulation results\n",
    "sim_results = os.listdir(path)\n",
    "print(len(sim_results))\n",
    "optm_max = match_regex_array(sim_results, r'.*Fmax.*')\n",
    "optm_max = [f.split('/sim_results/')[1] for f in optm_max]\n",
    "optm_tv = match_regex_array(sim_results, r'.*FTV.*')\n",
    "optm_tv = [f.split('/sim_results/')[1] for f in optm_tv]\n",
    "optm_kl = match_regex_array(sim_results, r'.*FKL.*')\n",
    "optm_kl = [f.split('/sim_results/')[1] for f in optm_kl]\n",
    "sim_results = [sm for sm in sim_results if not os.path.isdir(path + sm) and sm not in optm_max + optm_tv + optm_kl]\n",
    "print(len(sim_results))\n"
   ]
  },
  {
   "cell_type": "code",
   "execution_count": 17,
   "id": "38400353-c790-441c-9605-ffa9ac90fe93",
   "metadata": {},
   "outputs": [],
   "source": [
    "sim_results_selected = get_selected_scenarios(\"/home/mateus/NFR-master/Simulator/\")"
   ]
  },
  {
   "cell_type": "code",
   "execution_count": 18,
   "id": "622a150b-70e3-42ab-89eb-8f7670974b83",
   "metadata": {},
   "outputs": [
    {
     "name": "stdout",
     "output_type": "stream",
     "text": [
      "i: 0, i: 1, i: 2, i: 3, i: 4, i: 5, i: 6, i: 7, i: 8, i: 9, i: 10, i: 11, i: 12, i: 13, i: 14, i: 15, i: 16, i: 17, i: 18, i: 19, i: 20, i: 21, i: 22, i: 23, i: 24, i: 25, i: 26, i: 27, i: 28, i: 29, i: 30, i: 31, i: 32, i: 33, i: 34, i: 35, i: 36, i: 37, i: 38, i: 39, i: 40, i: 41, i: 42, i: 43, i: 44, i: 45, i: 46, i: 47, i: 48, i: 49, i: 50, i: 51, i: 52, i: 53, i: 54, i: 55, i: 56, i: 57, i: 58, i: 59, i: 60, i: 61, i: 62, i: 63, i: 64, i: 65, i: 66, i: 67, i: 68, i: 69, i: 70, i: 71, i: 72, i: 73, i: 74, i: 75, i: 76, i: 77, i: 78, i: 79, i: 80, i: 81, i: 82, i: 83, i: 84, i: 85, i: 86, i: 87, i: 88, i: 89, i: 90, i: 91, i: 92, i: 93, i: 94, i: 95, i: 96, i: 97, i: 98, i: 99, i: 100, i: 101, i: 102, i: 103, i: 104, i: 105, i: 106, i: 107, i: 108, i: 109, i: 110, i: 111, i: 112, i: 113, i: 114, i: 115, i: 116, i: 117, i: 118, i: 119, i: 120, i: 121, i: 122, i: 123, i: 124, i: 125, i: 126, i: 127, i: 128, i: 129, i: 130, i: 131, i: 132, i: 133, i: 134, i: 135, i: 136, i: 137, i: 138, i: 139, i: 140, i: 141, i: 142, i: 143, i: 144, i: 145, i: 146, i: 147, i: 148, i: 149, i: 150, i: 151, i: 152, i: 153, i: 154, i: 155, i: 156, i: 157, i: 158, i: 159, i: 160, i: 161, i: 162, i: 163, i: 164, i: 165, i: 166, i: 167, i: 168, i: 169, i: 170, i: 171, i: 172, i: 173, i: 174, i: 175, i: 176, i: 177, i: 178, i: 179, i: 180, i: 181, i: 182, i: 183, i: 184, i: 185, i: 186, i: 187, i: 188, i: 189, i: 190, i: 191, i: 192, i: 193, i: 194, i: 195, i: 196, i: 197, i: 198, i: 199, i: 200, i: 201, i: 202, i: 203, i: 204, i: 205, i: 206, i: 207, i: 208, i: 209, i: 210, i: 211, i: 212, i: 213, i: 214, i: 215, i: 216, i: 217, i: 218, i: 219, i: 220, i: 221, i: 222, i: 223, i: 224, i: 225, i: 226, i: 227, i: 228, i: 229, i: 230, i: 231, i: 232, i: 233, i: 234, i: 235, i: 236, i: 237, i: 238, i: 239, i: 240, i: 241, i: 242, i: 243, i: 244, i: 245, i: 246, i: 247, i: 248, i: 249, i: 250, i: 251, i: 252, i: 253, i: 254, i: 255, i: 256, i: 257, i: 258, i: 259, i: 260, i: 261, i: 262, i: 263, i: 264, i: 265, i: 266, i: 267, i: 268, i: 269, i: 270, i: 271, i: 272, i: 273, i: 274, i: 275, i: 276, i: 277, i: 278, i: 279, i: 280, i: 281, i: 282, i: 283, i: 284, i: 285, i: 286, i: 287, i: 288, i: 289, i: 290, i: 291, i: 292, i: 293, i: 294, i: 295, i: 296, i: 297, i: 298, i: 299, i: 300, i: 301, i: 302, i: 303, i: 304, i: 305, i: 306, i: 307, i: 308, i: 309, i: 310, i: 311, i: 312, i: 313, i: 314, i: 315, i: 316, i: 317, i: 318, i: 319, i: 320, i: 321, i: 322, i: 323, i: 324, i: 325, i: 326, i: 327, i: 328, i: 329, i: 330, i: 331, i: 332, i: 333, i: 334, i: 335, i: 336, i: 337, i: 338, i: 339, i: 340, i: 341, i: 342, i: 343, i: 344, i: 345, i: 346, i: 347, i: 348, i: 349, i: 350, i: 351, i: 352, i: 353, i: 354, i: 355, i: 356, i: 357, i: 358, i: 359, i: 360, i: 361, i: 362, i: 363, i: 364, i: 365, i: 366, i: 367, i: 368, i: 369, i: 370, i: 371, i: 372, i: 373, i: 374, i: 375, i: 376, i: 377, i: 378, i: 379, i: 380, i: 381, i: 382, i: 383, i: 384, i: 385, i: 386, i: 387, i: 388, i: 389, i: 390, i: 391, i: 392, i: 393, i: 394, i: 395, i: 396, i: 397, i: 398, i: 399, i: 400, i: 401, i: 402, i: 403, i: 404, i: 405, i: 406, i: 407, i: 408, i: 409, i: 410, i: 411, i: 412, i: 413, i: 414, i: 415, i: 416, i: 417, i: 418, i: 419, i: 420, i: 421, i: 422, i: 423, i: 424, i: 425, i: 426, i: 427, i: 428, i: 429, i: 430, i: 431, i: 432, "
     ]
    }
   ],
   "source": [
    "from random import choice, sample\n",
    "# files_sample = sample(sim_results, k=50)\n",
    "files_sample = sim_results_selected\n",
    "X = []\n",
    "Y = []\n",
    "Z = []\n",
    "i = 0\n",
    "rows = []\n",
    "for f in files_sample:\n",
    "    print(\"i:\", i, end=', ')\n",
    "    i+=1\n",
    "    try:\n",
    "        x, y, z = rejections_in_function_of_sample_size_and_fairness(path+f)\n",
    "        X.append(x)\n",
    "        Y.append(y)\n",
    "        Z.append(z)\n",
    "        for f_metric in z.keys():\n",
    "            rows.append({'File':f, 'SampleSize':x, 'Rejections':y, 'Fairness':z[f_metric], 'FairnessMetric':f_metric})\n",
    "    except Exception as e:\n",
    "        print(e)"
   ]
  },
  {
   "cell_type": "code",
   "execution_count": 14,
   "id": "d7dcfef1-84e3-418d-a3aa-f1ff9f311a34",
   "metadata": {},
   "outputs": [
    {
     "data": {
      "text/html": [
       "<div>\n",
       "<style scoped>\n",
       "    .dataframe tbody tr th:only-of-type {\n",
       "        vertical-align: middle;\n",
       "    }\n",
       "\n",
       "    .dataframe tbody tr th {\n",
       "        vertical-align: top;\n",
       "    }\n",
       "\n",
       "    .dataframe thead th {\n",
       "        text-align: right;\n",
       "    }\n",
       "</style>\n",
       "<table border=\"1\" class=\"dataframe\">\n",
       "  <thead>\n",
       "    <tr style=\"text-align: right;\">\n",
       "      <th></th>\n",
       "      <th>Unnamed: 0</th>\n",
       "      <th>File</th>\n",
       "      <th>SampleSize</th>\n",
       "      <th>Rejections</th>\n",
       "      <th>Fairness</th>\n",
       "      <th>FairnessMetric</th>\n",
       "    </tr>\n",
       "  </thead>\n",
       "  <tbody>\n",
       "    <tr>\n",
       "      <th>0</th>\n",
       "      <td>0</td>\n",
       "      <td>sim_results_Ulastfm_pop0_a0.99_N2_C10_CPtop_Q0...</td>\n",
       "      <td>[ 10  20  30  40  50  60  70  80  90 100]</td>\n",
       "      <td>[1.0, 1.0, 1.0, 1.0, 1.0, 1.0, 1.0, 1.0, 1.0, ...</td>\n",
       "      <td>[0.2201368 0.2201368 0.2201368 0.2201368 0.220...</td>\n",
       "      <td>max</td>\n",
       "    </tr>\n",
       "    <tr>\n",
       "      <th>1</th>\n",
       "      <td>1</td>\n",
       "      <td>sim_results_Ulastfm_pop0_a0.99_N2_C10_CPtop_Q0...</td>\n",
       "      <td>[ 10  20  30  40  50  60  70  80  90 100]</td>\n",
       "      <td>[1.0, 1.0, 1.0, 1.0, 1.0, 1.0, 1.0, 1.0, 1.0, ...</td>\n",
       "      <td>[0.88816996 0.88816996 0.88816996 0.88816996 0...</td>\n",
       "      <td>avg</td>\n",
       "    </tr>\n",
       "    <tr>\n",
       "      <th>2</th>\n",
       "      <td>2</td>\n",
       "      <td>sim_results_Ulastfm_pop0_a0.99_N2_C10_CPtop_Q0...</td>\n",
       "      <td>[ 10  20  30  40  50  60  70  80  90 100]</td>\n",
       "      <td>[1.0, 1.0, 1.0, 1.0, 1.0, 1.0, 1.0, 1.0, 1.0, ...</td>\n",
       "      <td>[0.69744987 0.69744987 0.69744987 0.69744987 0...</td>\n",
       "      <td>kl-smooth-inv</td>\n",
       "    </tr>\n",
       "    <tr>\n",
       "      <th>3</th>\n",
       "      <td>3</td>\n",
       "      <td>sim_results_Ulastfm_pop0_a0.99_N2_C10_CPtop_Q0...</td>\n",
       "      <td>[ 10  20  30  40  50  60  70  80  90 100]</td>\n",
       "      <td>[1.0, 1.0, 1.0, 1.0, 1.0, 1.0, 1.0, 1.0, 1.0, ...</td>\n",
       "      <td>[0.2201368 0.2201368 0.2201368 0.2201368 0.220...</td>\n",
       "      <td>max</td>\n",
       "    </tr>\n",
       "    <tr>\n",
       "      <th>4</th>\n",
       "      <td>4</td>\n",
       "      <td>sim_results_Ulastfm_pop0_a0.99_N2_C10_CPtop_Q0...</td>\n",
       "      <td>[ 10  20  30  40  50  60  70  80  90 100]</td>\n",
       "      <td>[1.0, 1.0, 1.0, 1.0, 1.0, 1.0, 1.0, 1.0, 1.0, ...</td>\n",
       "      <td>[0.88816996 0.88816996 0.88816996 0.88816996 0...</td>\n",
       "      <td>avg</td>\n",
       "    </tr>\n",
       "  </tbody>\n",
       "</table>\n",
       "</div>"
      ],
      "text/plain": [
       "   Unnamed: 0                                               File  \\\n",
       "0           0  sim_results_Ulastfm_pop0_a0.99_N2_C10_CPtop_Q0...   \n",
       "1           1  sim_results_Ulastfm_pop0_a0.99_N2_C10_CPtop_Q0...   \n",
       "2           2  sim_results_Ulastfm_pop0_a0.99_N2_C10_CPtop_Q0...   \n",
       "3           3  sim_results_Ulastfm_pop0_a0.99_N2_C10_CPtop_Q0...   \n",
       "4           4  sim_results_Ulastfm_pop0_a0.99_N2_C10_CPtop_Q0...   \n",
       "\n",
       "                                  SampleSize  \\\n",
       "0  [ 10  20  30  40  50  60  70  80  90 100]   \n",
       "1  [ 10  20  30  40  50  60  70  80  90 100]   \n",
       "2  [ 10  20  30  40  50  60  70  80  90 100]   \n",
       "3  [ 10  20  30  40  50  60  70  80  90 100]   \n",
       "4  [ 10  20  30  40  50  60  70  80  90 100]   \n",
       "\n",
       "                                          Rejections  \\\n",
       "0  [1.0, 1.0, 1.0, 1.0, 1.0, 1.0, 1.0, 1.0, 1.0, ...   \n",
       "1  [1.0, 1.0, 1.0, 1.0, 1.0, 1.0, 1.0, 1.0, 1.0, ...   \n",
       "2  [1.0, 1.0, 1.0, 1.0, 1.0, 1.0, 1.0, 1.0, 1.0, ...   \n",
       "3  [1.0, 1.0, 1.0, 1.0, 1.0, 1.0, 1.0, 1.0, 1.0, ...   \n",
       "4  [1.0, 1.0, 1.0, 1.0, 1.0, 1.0, 1.0, 1.0, 1.0, ...   \n",
       "\n",
       "                                            Fairness FairnessMetric  \n",
       "0  [0.2201368 0.2201368 0.2201368 0.2201368 0.220...            max  \n",
       "1  [0.88816996 0.88816996 0.88816996 0.88816996 0...            avg  \n",
       "2  [0.69744987 0.69744987 0.69744987 0.69744987 0...  kl-smooth-inv  \n",
       "3  [0.2201368 0.2201368 0.2201368 0.2201368 0.220...            max  \n",
       "4  [0.88816996 0.88816996 0.88816996 0.88816996 0...            avg  "
      ]
     },
     "execution_count": 14,
     "metadata": {},
     "output_type": "execute_result"
    }
   ],
   "source": [
    "\n",
    "# df = pd.DataFrame(rows)\n",
    "# df.to_csv(\"rejections_samplesize_fairness.csv\")\n",
    "df = pd.read_csv(\"rejections_samplesize_fairness.csv\")\n",
    "df.head()"
   ]
  },
  {
   "cell_type": "code",
   "execution_count": 62,
   "id": "14787573-069d-445a-89ae-c892281d4871",
   "metadata": {},
   "outputs": [],
   "source": [
    "def convert_array_string_to_int_array(l):\n",
    "    return list(map(int, l.replace(\"[\", \"\").replace(\"]\", \"\").split()))\n",
    "def convert_array_string_to_float_array_comma(l):\n",
    "    return list(map(float, l.replace(\"[\", \"\").replace(\"]\", \"\").split(',')))\n",
    "def convert_array_string_to_float_array(l):\n",
    "    return list(map(float, l.replace(\"[\", \"\").replace(\"]\", \"\").split()))\n"
   ]
  },
  {
   "cell_type": "code",
   "execution_count": 63,
   "id": "1b6f679e-935b-4e3e-b9cd-38dbdfaa8e9a",
   "metadata": {},
   "outputs": [
    {
     "data": {
      "text/plain": [
       "0       [10, 20, 30, 40, 50, 60, 70, 80, 90, 100]\n",
       "1       [10, 20, 30, 40, 50, 60, 70, 80, 90, 100]\n",
       "2       [10, 20, 30, 40, 50, 60, 70, 80, 90, 100]\n",
       "3       [10, 20, 30, 40, 50, 60, 70, 80, 90, 100]\n",
       "4       [10, 20, 30, 40, 50, 60, 70, 80, 90, 100]\n",
       "                          ...                    \n",
       "1294    [10, 20, 30, 40, 50, 60, 70, 80, 90, 100]\n",
       "1295    [10, 20, 30, 40, 50, 60, 70, 80, 90, 100]\n",
       "1296    [10, 20, 30, 40, 50, 60, 70, 80, 90, 100]\n",
       "1297    [10, 20, 30, 40, 50, 60, 70, 80, 90, 100]\n",
       "1298    [10, 20, 30, 40, 50, 60, 70, 80, 90, 100]\n",
       "Name: SampleSize, Length: 1299, dtype: object"
      ]
     },
     "execution_count": 63,
     "metadata": {},
     "output_type": "execute_result"
    }
   ],
   "source": [
    "df['SampleSize'].map(convert_array_string_to_int_array)"
   ]
  },
  {
   "cell_type": "code",
   "execution_count": 133,
   "id": "aac439c8-9f21-49a9-9bd9-6450895a7631",
   "metadata": {},
   "outputs": [
    {
     "data": {
      "image/png": "[encoded data removed]",
      "text/plain": [
       "<Figure size 432x288 with 2 Axes>"
      ]
     },
     "metadata": {
      "needs_background": "light"
     },
     "output_type": "display_data"
    },
    {
     "data": {
      "text/plain": [
       "<Figure size 864x576 with 0 Axes>"
      ]
     },
     "metadata": {},
     "output_type": "display_data"
    }
   ],
   "source": [
    "df_max = df[df['FairnessMetric'] == 'max']\n",
    "X = df_max['SampleSize'].map(convert_array_string_to_int_array).tolist()\n",
    "Y = df_max['Rejections'].map(convert_array_string_to_float_array_comma).tolist()\n",
    "Z = df_max['Fairness'].map(convert_array_string_to_float_array).tolist()\n",
    "fig,ax=plt.subplots(1,1, constrained_layout=True)\n",
    "cp = ax.contourf(X, Y, Z, cmap='Reds')\n",
    "cbar = fig.colorbar(cp) # Add a colorbar to a plot\n",
    "# cbar = plt.colorbar()\n",
    "ticklabs = cbar.ax.get_yticklabels()\n",
    "cbar.ax.set_yticklabels(ticklabs, fontsize=18)\n",
    "cbar.ax.set_ylabel(\"Z (Unfairness)\", fontsize=18)\n",
    "plt.xticks(fontsize=16)\n",
    "plt.yticks(fontsize=16)\n",
    "ax.set_xlabel('X (Sample Size)', fontsize=18)\n",
    "ax.set_ylabel('Y (Proportion of Rejections)', fontsize=18)\n",
    "# ax.yaxis.tick_right()\n",
    "# ax2 = ax.twinx()\n",
    "# ax2.set_ylabel('z (Unfairness)', fontsize=18)\n",
    "plt.savefig(\"contour_fmax.eps\", format='eps')\n",
    "plt.figure(figsize=(12,8))\n",
    "plt.show()"
   ]
  },
  {
   "cell_type": "code",
   "execution_count": 125,
   "id": "2909b5c8-ee1e-4846-89ee-14207de35bc0",
   "metadata": {},
   "outputs": [
    {
     "data": {
      "text/plain": [
       "0.31798688"
      ]
     },
     "execution_count": 125,
     "metadata": {},
     "output_type": "execute_result"
    }
   ],
   "source": [
    "np.array(df_max['Fairness'].map(convert_array_string_to_float_array).tolist()).max()"
   ]
  },
  {
   "cell_type": "code",
   "execution_count": 134,
   "id": "6e2c4206-14e1-483d-9e78-466188f8317a",
   "metadata": {},
   "outputs": [
    {
     "data": {
      "image/png": "[encoded data removed]",
      "text/plain": [
       "<Figure size 432x288 with 2 Axes>"
      ]
     },
     "metadata": {
      "needs_background": "light"
     },
     "output_type": "display_data"
    }
   ],
   "source": [
    "df_avg = df[df['FairnessMetric'] == 'avg']\n",
    "X = df_avg['SampleSize'].map(convert_array_string_to_int_array).tolist()\n",
    "Y = df_avg['Rejections'].map(convert_array_string_to_float_array_comma).tolist()\n",
    "Z = df_avg['Fairness'].map(convert_array_string_to_float_array).tolist()\n",
    "# Z_ = [z['avg'] for z in Z]\n",
    "fig,ax=plt.subplots(1,1, constrained_layout=True)\n",
    "cp = ax.contourf(X, Y, Z, cmap='Reds', levels=len(X)//40)\n",
    "cbar = fig.colorbar(cp) # Add a colorbar to a plot\n",
    "# cbar = plt.colorbar()\n",
    "ticklabs = cbar.ax.get_yticklabels()\n",
    "cbar.ax.set_yticklabels(ticklabs, fontsize=18)\n",
    "cbar.ax.set_ylabel(\"Z (Unfairness)\", fontsize=18)\n",
    "plt.xticks(fontsize=16)\n",
    "plt.yticks(fontsize=16)\n",
    "ax.set_xlabel('X (Sample Size)', fontsize=18)\n",
    "ax.set_ylabel('Y (Proportion of Rejections)', fontsize=18)\n",
    "# ax.yaxis.tick_right()\n",
    "# ax2 = ax.twinx()\n",
    "# ax2.set_ylabel('z (Unfairness)', fontsize=18)\n",
    "plt.savefig(\"contour_ftv.eps\", format='eps')\n",
    "plt.show()"
   ]
  },
  {
   "cell_type": "code",
   "execution_count": 136,
   "id": "5dd2d727-fc74-4c24-b8f7-5ca3b866089a",
   "metadata": {},
   "outputs": [
    {
     "data": {
      "image/png": "[encoded data removed]",
      "text/plain": [
       "<Figure size 432x288 with 2 Axes>"
      ]
     },
     "metadata": {
      "needs_background": "light"
     },
     "output_type": "display_data"
    },
    {
     "data": {
      "text/plain": [
       "<Figure size 864x576 with 0 Axes>"
      ]
     },
     "metadata": {},
     "output_type": "display_data"
    }
   ],
   "source": [
    "df_kl = df[df['FairnessMetric'] == 'kl-smooth-inv']\n",
    "X = df_kl['SampleSize'].map(convert_array_string_to_int_array).tolist()\n",
    "Y = df_kl['Rejections'].map(convert_array_string_to_float_array_comma).tolist()\n",
    "Z = df_kl['Fairness'].map(convert_array_string_to_float_array).tolist()\n",
    "# Z_ = [z['kl-smooth-inv'] for z in Z]\n",
    "fig,ax=plt.subplots(1,1, constrained_layout=True)\n",
    "cp = ax.contourf(X, Y, Z, cmap='Reds', levels=len(X)//40)\n",
    "cbar = fig.colorbar(cp) # Add a colorbar to a plot\n",
    "# cbar = plt.colorbar()\n",
    "ticklabs = cbar.ax.get_yticklabels()\n",
    "cbar.ax.set_yticklabels(ticklabs, fontsize=18)\n",
    "cbar.ax.set_ylabel(\"Z (Unfairness)\", fontsize=18)\n",
    "plt.xticks(fontsize=16)\n",
    "plt.yticks(fontsize=16)\n",
    "ax.set_xlabel('X (Sample Size)', fontsize=18)\n",
    "ax.set_ylabel('Y (Proportion of Rejections)', fontsize=18)\n",
    "# ax.yaxis.tick_right()\n",
    "# ax2 = ax.twinx()\n",
    "# ax2.set_ylabel('z (Unfairness)', fontsize=18)\n",
    "plt.savefig(\"contour_fkl.eps\", format='eps')\n",
    "plt.figure(figsize=(12,8))\n",
    "plt.show()"
   ]
  },
  {
   "cell_type": "code",
   "execution_count": 205,
   "id": "b518a524-5b8d-41e8-9868-6323805a372e",
   "metadata": {},
   "outputs": [
    {
     "data": {
      "image/png": "[encoded data removed]",
      "text/plain": [
       "<Figure size 432x288 with 3 Axes>"
      ]
     },
     "metadata": {
      "needs_background": "light"
     },
     "output_type": "display_data"
    },
    {
     "data": {
      "text/plain": [
       "<Figure size 864x576 with 0 Axes>"
      ]
     },
     "metadata": {},
     "output_type": "display_data"
    }
   ],
   "source": [
    "fig,ax=plt.subplots(1,1)\n",
    "cp = ax.contourf(X, Z, Y)\n",
    "fig.colorbar(cp) # Add a colorbar to a plot\n",
    "ax.set_title('Filled Contours Plot')\n",
    "ax.set_xlabel('x (test_sample_size)')\n",
    "ax.set_ylabel('y (Rejections)')\n",
    "ax.yaxis.tick_right()\n",
    "ax2 = ax.twinx()\n",
    "ax2.set_ylabel('z (Unfairness)')\n",
    "plt.figure(figsize=(12,8))\n",
    "plt.show()"
   ]
  },
  {
   "cell_type": "code",
   "execution_count": 178,
   "id": "ce12b7b3-8412-4588-b6e0-92f0faa64d37",
   "metadata": {},
   "outputs": [
    {
     "data": {
      "text/plain": [
       "[array([[0, 1, 2, 3, 4],\n",
       "        [0, 1, 2, 3, 4],\n",
       "        [0, 1, 2, 3, 4],\n",
       "        [0, 1, 2, 3, 4],\n",
       "        [0, 1, 2, 3, 4]]),\n",
       " array([[5, 5, 5, 5, 5],\n",
       "        [6, 6, 6, 6, 6],\n",
       "        [7, 7, 7, 7, 7],\n",
       "        [8, 8, 8, 8, 8],\n",
       "        [9, 9, 9, 9, 9]])]"
      ]
     },
     "execution_count": 178,
     "metadata": {},
     "output_type": "execute_result"
    }
   ],
   "source": [
    "x = np.arange(5)\n",
    "y = np.arange(5, 10)\n",
    "np.meshgrid(x, y)"
   ]
  },
  {
   "cell_type": "code",
   "execution_count": null,
   "id": "205cdbf9-18a3-4e41-b32c-a3cb45c375df",
   "metadata": {},
   "outputs": [],
   "source": []
  },
  {
   "cell_type": "code",
   "execution_count": 63,
   "id": "74b8d769-c938-4784-8afd-504866632104",
   "metadata": {},
   "outputs": [
    {
     "name": "stdout",
     "output_type": "stream",
     "text": [
      "10,10,14,18,23,27,32,36,41,45,50,20,10,14,18,23,27,32,36,41,45,50,30,10,14,18,23,27,32,36,41,45,50,"
     ]
    }
   ],
   "source": [
    "# Confidence Interval\n",
    "# def get_rejections_cis_filename(file, n_bots, n_rounds):\n",
    "#     alpha = float(file.split('/sim_results_')[1].split('_')[2][1:])\n",
    "#     N = int(file.split('/sim_results_')[1].split('_')[3][1:])\n",
    "#     data = json.load(open(file))\n",
    "#     test_sample_sizes = np.linspace(10, 50, 10).astype(int)\n",
    "#     confidence_intervals = []\n",
    "#     ref_dist_size=10**4\n",
    "#     ref_dist = data['pi_bs']\n",
    "#     ref_dist_samples = choices(population, ref_dist, k=ref_dist_size)\n",
    "#     cis = []\n",
    "#     cis = []\n",
    "#     for tds in test_sample_sizes:\n",
    "#         print(tds, end=',')\n",
    "#         contents_per_bot = tds\n",
    "#         proportion = covertness_kstest_random_walker(ref_dist_samples, \\\n",
    "#                                                       data['p0'], \\\n",
    "#                                                    data['R_NA'], \\\n",
    "#                                                    N, alpha, n_bots,\\\n",
    "#                                                    contents_per_bot,\\\n",
    "#                                                    n_rounds)\n",
    "#         cis.append(np.array(ci_proportion(proportion, nrounds)))\n",
    "#     return cis\n",
    "# cis = get_rejections_cis_filename(file)\n",
    "\n",
    "\n",
    "[save_confidence_intervals(cis, [10, 50], nrounds, nbots) for i in range(len(cis))]"
   ]
  },
  {
   "cell_type": "code",
   "execution_count": 79,
   "id": "7a25045d-472c-4875-8c6d-cb0abb642c54",
   "metadata": {},
   "outputs": [
    {
     "name": "stdout",
     "output_type": "stream",
     "text": [
      "[0.78 0.87 0.9  0.99 0.97 1.01 1.   1.01 1.   1.  ]\n",
      "[0.99 1.   1.01 1.01 1.   1.   1.   1.   1.   1.  ]\n",
      "[1. 1. 1. 1. 1. 1. 1. 1. 1. 1.]\n"
     ]
    },
    {
     "data": {
      "image/png": "[encoded data removed]",
      "text/plain": [
       "<Figure size 432x288 with 1 Axes>"
      ]
     },
     "metadata": {
      "needs_background": "light"
     },
     "output_type": "display_data"
    }
   ],
   "source": [
    "fig, ax = plt.subplots()\n",
    "plot_confidence_intervals(test_dist_sizes, \"confidence_interval_test_sizetds10-50_rounds_100_bots_10.txt\", fig, ax, 'Bots=10', 'b')\n",
    "plot_confidence_intervals(test_dist_sizes, \"confidence_interval_test_sizetds10-50_rounds_100_bots_20.txt\", fig, ax, 'Bots=20', 'g')\n",
    "plot_confidence_intervals(test_dist_sizes, \"confidence_interval_test_sizetds10-50_rounds_100_bots_30.txt\", fig, ax, 'Bots=30', 'r')\n",
    "plt.legend()\n",
    "plt.savefig(\"proportions.png\")"
   ]
  },
  {
   "cell_type": "code",
   "execution_count": 10,
   "id": "4fbc1b80-665b-4d11-bc33-e83c34e81b20",
   "metadata": {},
   "outputs": [],
   "source": [
    "# rna = np.array(data_movielens['R_NA'])\n",
    "# rows = rna.shape[0]\n",
    "# means = []\n",
    "# for i in range(rows):\n",
    "#     ri = rna[i]\n",
    "#     ri = ri[ri > 0]\n",
    "#     means.append(len(ri))\n",
    "# means"
   ]
  },
  {
   "cell_type": "code",
   "execution_count": 262,
   "id": "d5ce4be4-e3de-4b88-8673-58792b1ac8d1",
   "metadata": {},
   "outputs": [
    {
     "name": "stdout",
     "output_type": "stream",
     "text": [
      "10,11,12,13,14,15,16,17,18,19,20,21,22,23,24,25,26,27,28,29,30,31,32,33,34,35,36,37,38,39,40,41,42,43,44,45,46,47,48,50,"
     ]
    }
   ],
   "source": [
    "# test_dist_sizes = np.linspace(10, 50, 40).astype(int)\n",
    "# proportions = []\n",
    "# confidence_intervals = []\n",
    "# ref_dist_size=10**3\n",
    "# ref_dist = data_movielens['pi_bs']\n",
    "# ref_dist_samples = choices(population_movielens, ref_dist, k=ref_dist_size)\n",
    "# vcs = df['user id'].value_counts() \n",
    "# # unique_counts = np.asarray((unique, counts)).T\n",
    "# contents_per_user_population, contents_per_user_dist = np.unique(vcs, return_counts=True)\n",
    "# nrounds = 100\n",
    "# # n_bots = [10, 20, 30]\n",
    "# n_bots = np.linspace(10, 50, 40).astype(int)\n",
    "# cis = []\n",
    "# for nbots in n_bots:\n",
    "#     print(nbots, end=',')\n",
    "#     # cis = []\n",
    "#     # for tds in test_dist_sizes:\n",
    "#         # print(tds, end=',')\n",
    "#     p_values, proportion = covertness_kstest_aggregate_random_contents_per_bot(\\\n",
    "#                                                ref_dist_samples, \\\n",
    "#                                                data_movielens['pi_final_NA'], \\\n",
    "#                                                population_movielens, \\\n",
    "#                                                contents_per_user_population//10,\n",
    "#                                                contents_per_user_dist,\n",
    "#                                                N_bots=nbots, rounds=nrounds)\n",
    "#     proportions.append(proportion)\n",
    "#     cis.append(np.array(ci_proportion(proportion, nrounds)))\n",
    "# save_confidence_intervals(cis, [0, 700], nrounds, nbots)"
   ]
  },
  {
   "cell_type": "code",
   "execution_count": 281,
   "id": "afe4c082-3980-4147-b17d-97dbb73bb77a",
   "metadata": {},
   "outputs": [
    {
     "data": {
      "image/png": "[encoded data removed]",
      "text/plain": [
       "<Figure size 432x288 with 1 Axes>"
      ]
     },
     "metadata": {
      "needs_background": "light"
     },
     "output_type": "display_data"
    }
   ],
   "source": [
    "plt.bar(contents_per_user_population, contents_per_user_dist)\n",
    "plt.xlabel(\"Contents per user\")\n",
    "plt.ylabel(\"Frequencies\")\n",
    "plt.savefig(\"contents_per_user_freq.png\")"
   ]
  },
  {
   "cell_type": "code",
   "execution_count": 282,
   "id": "5955839c-9c89-4729-8935-2ea2fff2ab1b",
   "metadata": {},
   "outputs": [
    {
     "data": {
      "image/png": "[encoded data removed]",
      "text/plain": [
       "<Figure size 432x288 with 1 Axes>"
      ]
     },
     "metadata": {
      "needs_background": "light"
     },
     "output_type": "display_data"
    }
   ],
   "source": [
    "plt.bar(contents_per_user_population//10, contents_per_user_dist)\n",
    "plt.xlabel(\"Contents per user\")\n",
    "plt.ylabel(\"Frequencies\")\n",
    "plt.savefig(\"contents_per_user_freq_div_10.png\")"
   ]
  },
  {
   "cell_type": "code",
   "execution_count": 263,
   "id": "0f40d893-aa7d-482b-8e2e-a286f9f85921",
   "metadata": {},
   "outputs": [],
   "source": [
    "# save_confidence_intervals(cis, test_dist_sizes, nrounds, nbots)"
   ]
  },
  {
   "cell_type": "code",
   "execution_count": 78,
   "id": "894cca4a-f997-4cdd-ba17-1a55af6a4db4",
   "metadata": {},
   "outputs": [
    {
     "name": "stdout",
     "output_type": "stream",
     "text": [
      "[Errno 2] No such file or directory: 'confidence_interval_random_test_sizetds0-700_rounds_100_bots_50.txt'\n"
     ]
    },
    {
     "data": {
      "image/png": "[encoded data removed]",
      "text/plain": [
       "<Figure size 432x288 with 1 Axes>"
      ]
     },
     "metadata": {
      "needs_background": "light"
     },
     "output_type": "display_data"
    }
   ],
   "source": [
    "fig, ax = plt.subplots()\n",
    "plot_confidence_intervals(n_bots, \"confidence_interval_random_test_sizetds0-700_rounds_100_bots_50.txt\", fig, ax, '', 'b')\n",
    "plt.savefig(\"proportions_nbots.png\")"
   ]
  },
  {
   "cell_type": "code",
   "execution_count": 23,
   "id": "46abc77c-8a1a-456c-a23e-07efdabffd9b",
   "metadata": {},
   "outputs": [],
   "source": [
    "# for the not aggregated case\n",
    "# test_dist_sizes = np.linspace(10, 40, 4).astype(int)\n",
    "# pvalues_mean_sample = []\n",
    "# proportion_mean_sample = []\n",
    "# confidence_intervals = []\n",
    "# for tds in test_dist_sizes:\n",
    "#     print(tds)\n",
    "#     p_values_means, proportion_means = covertness_kstest(data_movielens['pi_bs'], data_movielens['pi_final_NA'], population_movielens, ref_dist_size=10**4, test_dist_size=tds, N_bots=50, rounds=30)\n",
    "#     pvalues_mean_sample.append(p_values_means)\n",
    "#     proportion_mean_sample.append(proportion_means)"
   ]
  }
 ],
 "metadata": {
  "kernelspec": {
   "display_name": "Python 3",
   "language": "python",
   "name": "python3"
  },
  "language_info": {
   "codemirror_mode": {
    "name": "ipython",
    "version": 3
   },
   "file_extension": ".py",
   "mimetype": "text/x-python",
   "name": "python",
   "nbconvert_exporter": "python",
   "pygments_lexer": "ipython3",
   "version": "3.8.10"
  }
 },
 "nbformat": 4,
 "nbformat_minor": 5
}
