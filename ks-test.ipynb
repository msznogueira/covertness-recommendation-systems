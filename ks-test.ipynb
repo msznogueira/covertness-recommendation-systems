{
 "cells": [
  {
   "cell_type": "code",
   "execution_count": 1,
   "id": "18fcee7e",
   "metadata": {},
   "outputs": [],
   "source": [
    "import numpy as np\n",
    "from scipy.stats import ks_2samp, ks_1samp, kstest\n",
    "import json\n",
    "import pandas as pd\n",
    "import matplotlib.pyplot as plt\n",
    "from random import choices\n",
    "import os"
   ]
  },
  {
   "cell_type": "code",
   "execution_count": 2,
   "id": "d4c2c834",
   "metadata": {},
   "outputs": [],
   "source": [
    "import re\n",
    "def match_regex_array(files, regex):\n",
    "    matches = [re.findall(regex, f) for f in files]\n",
    "    matches = [\"./sim_results/\" + m[0] for m in matches if len(m) > 0 ]\n",
    "    return matches"
   ]
  },
  {
   "cell_type": "code",
   "execution_count": 3,
   "id": "6ee54f32",
   "metadata": {},
   "outputs": [],
   "source": [
    "# Apply KS-test using a large number of samples from the reference distribution \n",
    "# and a small sample from a \"test\" (in this case, the Network-Aware) distribution multiple times\n",
    "# Each test sample represents a bot consuming contents from NA-distribution\n",
    "# Function returns the mean of the p_values for all KS-tests performed for each bot\n",
    "# and the proportion of null hypothesis rejection, i.e., samples were not generated from the same distribution\n",
    "def covertness_kstest(ref_dist, test_dist, population, ref_dist_size=10**6, test_dist_size=10**3, N_bots = 100, rounds=30):\n",
    "    p_values_mean_rounds = []\n",
    "    rejection_proportions_rounds = []\n",
    "    ref_dist_large_samples = choices(population, ref_dist, k=ref_dist_size)\n",
    "    for i in range(rounds):\n",
    "        p_values = []        \n",
    "        null_hypothesis_rejections = 0\n",
    "        for j in range(N_bots):\n",
    "            test_dist_samples = choices(population, test_dist, k=test_dist_size) # bot \"watches\" amount of contents\n",
    "            ks = ks_2samp(ref_dist_large_samples, test_dist_samples)\n",
    "            p_values.append(ks.pvalue)\n",
    "            if (ks.pvalue < 0.05):\n",
    "                null_hypothesis_rejections += 1\n",
    "        p_values_mean = np.mean(p_values)\n",
    "        null_hypothesis_rejections /= N_bots\n",
    "\n",
    "        p_values_mean_rounds.append(p_values_mean)\n",
    "        rejection_proportions_rounds.append(np.mean(null_hypothesis_rejections))\n",
    "    return p_values_mean_rounds, rejection_proportions_rounds"
   ]
  },
  {
   "cell_type": "code",
   "execution_count": 5,
   "id": "8b3c35f7-d215-406c-8d75-2b4431ad9b84",
   "metadata": {},
   "outputs": [],
   "source": [
    "# aggregated mode\n",
    "def covertness_kstest_aggregate(baseline_samples, test_dist, population, test_dist_size=10**3, N_bots = 100, rounds=30):\n",
    "    p_values_rounds = []\n",
    "    null_hypothesis_rejections = 0\n",
    "    for i in range(rounds):\n",
    "        # print(\"round \", i, end=' ')\n",
    "        test_agg_samples = []\n",
    "        for j in range(N_bots):\n",
    "            test_dist_samples = choices(population, test_dist, k=test_dist_size) # bot \"watches\" amount of contents\n",
    "            test_agg_samples += test_dist_samples\n",
    "        ks = ks_2samp(baseline_samples, test_agg_samples)\n",
    "        if (ks.pvalue < 0.05):\n",
    "            null_hypothesis_rejections += 1\n",
    "        p_values_rounds.append(ks.pvalue)        \n",
    "    return p_values_rounds, null_hypothesis_rejections/rounds"
   ]
  },
  {
   "cell_type": "code",
   "execution_count": 6,
   "id": "b4bdf637",
   "metadata": {},
   "outputs": [],
   "source": [
    "data_lastfm = json.load(open(\"./sim_results/sim_results_Ulastfm_pop0_a0.5_N2_C5_CPtop_Q0.5_L40.json\"))\n",
    "lastfm_size = len(data_lastfm['p0'])\n",
    "data_movielens = json.load(open(\"./sim_results/sim_results_Umovielens1k_pop1_a0.5_N2_C10_CPtop_Q0.9_L40.json\"))\n",
    "movielens_size = len(data_movielens['p0'])\n",
    "population_movielens = np.arange(movielens_size)\n",
    "population_lastfm = np.arange(lastfm_size)"
   ]
  },
  {
   "cell_type": "code",
   "execution_count": 9,
   "id": "b0c30dc3",
   "metadata": {},
   "outputs": [
    {
     "name": "stdout",
     "output_type": "stream",
     "text": [
      "KStest between large samples bs and a small sample NA (expected low p-value)\n"
     ]
    },
    {
     "data": {
      "text/plain": [
       "0.6"
      ]
     },
     "execution_count": 9,
     "metadata": {},
     "output_type": "execute_result"
    }
   ],
   "source": [
    "# Consistency Check - we should see a small p-value when comparing samples from pi_NA \n",
    "# and a high p-value when using samples from pi_bs\n",
    "# print(\"KStest between large samples bs and a small sample bs (expected high p-value)\")\n",
    "# p_values_means, proportion_means = covertness_kstest(data_movielens['pi_bs'], data_movielens['pi_bs'], population_movielens, ref_dist_size=10**3, test_dist_size=10**2, N_bots=20)\n",
    "# print(\"p_value: \" ,np.mean(p_values_means))\n",
    "# print(np.mean(proportion_means))\n",
    "print(\"KStest between large samples bs and a small sample NA (expected low p-value)\")\n",
    "baseline_samples = choices(population_movielens, data_movielens['pi_bs'], k=10**4)\n",
    "p_values, proportion = covertness_kstest_aggregate(baseline_samples, data_movielens['pi_final_NA'], population_movielens, test_dist_size=20, N_bots=10, rounds=30)\n",
    "proportion\n",
    "# print(\"p_value: \", np.mean(p_values_means))\n",
    "# print(np.mean(proportion_means))\n"
   ]
  },
  {
   "cell_type": "code",
   "execution_count": 10,
   "id": "47798bae-a341-4dd0-9b2d-8bc1e987104c",
   "metadata": {},
   "outputs": [
    {
     "data": {
      "image/png": "[encoded data removed]",
      "text/plain": [
       "<Figure size 432x288 with 1 Axes>"
      ]
     },
     "metadata": {
      "needs_background": "light"
     },
     "output_type": "display_data"
    }
   ],
   "source": [
    "# It should have the shape of a normal distribution\n",
    "plt.hist(p_values)\n",
    "plt.show()"
   ]
  },
  {
   "cell_type": "code",
   "execution_count": 12,
   "id": "8b37d945-b3e3-484b-bcc4-53e5447c180f",
   "metadata": {},
   "outputs": [],
   "source": [
    "# It should have the shape of a normal distribution\n",
    "# plt.hist(proportion_means)\n",
    "# plt.show()"
   ]
  },
  {
   "cell_type": "code",
   "execution_count": 14,
   "id": "5047a729-ef89-4aab-8c16-8166864b1ed5",
   "metadata": {},
   "outputs": [],
   "source": [
    "def ci_proportion(p_hat, n):\n",
    "    std_hat = np.sqrt((p_hat*(1-p_hat))/n)\n",
    "    lower = p_hat - 1.96*std_hat\n",
    "    upper = p_hat + 1.96*std_hat\n",
    "    return lower, p_hat, upper"
   ]
  },
  {
   "cell_type": "code",
   "execution_count": 55,
   "id": "b8616c80-d939-4cd1-a931-8d52c6c8bb4e",
   "metadata": {},
   "outputs": [],
   "source": [
    "from os.path import exists\n",
    "def save_confidence_intervals(cis, test_dist_sizes, rounds, bots):\n",
    "    filename = \"confidence_interval_\" + \"tds\" + str(test_dist_sizes[0]) + \\\n",
    "        \"-\" + str(test_dist_sizes[-1]) + \"_rounds_\" + str(rounds) + \\\n",
    "        \"_bots_\" + str(bots) + \".txt\"\n",
    "    if (not exists(filename)):\n",
    "        lowers = np.array([cis[i][0] for i in range(len(cis))])\n",
    "        means = np.array([cis[i][1] for i in range(len(cis))])\n",
    "        uppers = np.array([cis[i][2] for i in range(len(cis))])\n",
    "        f = open(filename, \"w\")\n",
    "        n_intervals = len(means)\n",
    "        for i in range(n_intervals):            \n",
    "            f.write(str(lowers[i]) + \",\" + str(means[i]) + \",\" + \\\n",
    "                    str(uppers[i]) + str(test_dist_sizes[i]) + \"\\n\")\n",
    "        f.close()\n",
    "    else:\n",
    "        print(\"{} file already exists\".format(filename))\n",
    "    "
   ]
  },
  {
   "cell_type": "code",
   "execution_count": null,
   "id": "d5ce4be4-e3de-4b88-8673-58792b1ac8d1",
   "metadata": {},
   "outputs": [
    {
     "name": "stdout",
     "output_type": "stream",
     "text": [
      "10,"
     ]
    }
   ],
   "source": [
    "test_dist_sizes = np.linspace(10, 50, 40).astype(int)\n",
    "proportions = []\n",
    "confidence_intervals = []\n",
    "ref_dist_size=10**4\n",
    "ref_dist = data_movielens['pi_bs']\n",
    "ref_dist_samples = choices(population_movielens, ref_dist, k=ref_dist_size)\n",
    "nrounds = 100\n",
    "n_bots = [10, 20, 30]\n",
    "for nbots in n_bots:\n",
    "    cis = []\n",
    "    for tds in test_dist_sizes:\n",
    "        print(tds, end=',')\n",
    "        p_values, proportion = covertness_kstest_aggregate(ref_dist_samples, data_movielens['pi_final_NA'], population_movielens, test_dist_size=tds, N_bots=nbots, rounds=nrounds)\n",
    "        proportions.append(proportion)\n",
    "        cis.append(np.array(ci_proportion(proportion, nrounds)))\n",
    "    save_confidence_intervals(cis, test_dist_sizes, nrounds, nbots)"
   ]
  },
  {
   "cell_type": "code",
   "execution_count": 56,
   "id": "0f40d893-aa7d-482b-8e2e-a286f9f85921",
   "metadata": {},
   "outputs": [],
   "source": [
    "save_confidence_intervals(cis, test_dist_sizes, nrounds, nbots)"
   ]
  },
  {
   "cell_type": "code",
   "execution_count": 82,
   "id": "377cba32-5199-4501-8dd2-39e067293784",
   "metadata": {},
   "outputs": [],
   "source": [
    "def plot_confidence_intervals(x, filename):\n",
    "    try:\n",
    "        f = open(filename, \"r\")\n",
    "        cis = np.array([np.array(line.rstrip().split(\",\")).astype(float) for line in f.readlines()])\n",
    "        lowers = cis[:, 0]\n",
    "        means = cis[:, 1]\n",
    "        uppers = cis[:, 2]\n",
    "        fig, ax = plt.subplots()\n",
    "        ax.plot(x, means)\n",
    "        ax.fill_between(x, lowers, uppers, color='b', alpha=.1)\n",
    "        plt.xlabel(\"Contents per bot\")\n",
    "        plt.ylabel(\"Proportion of null hypothesis rejections\")\n",
    "        # plt.savefig(\"proportions_nbots30.png\")\n",
    "        plt.show()\n",
    "    except Exception as e:\n",
    "        print(e)"
   ]
  },
  {
   "cell_type": "code",
   "execution_count": 85,
   "id": "7a25045d-472c-4875-8c6d-cb0abb642c54",
   "metadata": {},
   "outputs": [
    {
     "data": {
      "image/png": "[encoded data removed]",
      "text/plain": [
       "<Figure size 432x288 with 1 Axes>"
      ]
     },
     "metadata": {
      "needs_background": "light"
     },
     "output_type": "display_data"
    }
   ],
   "source": [
    "plot_confidence_intervals(test_dist_sizes, \"confidence_interval_tds10-50_rounds_10_bots_30.txt\")"
   ]
  },
  {
   "cell_type": "code",
   "execution_count": 23,
   "id": "46abc77c-8a1a-456c-a23e-07efdabffd9b",
   "metadata": {},
   "outputs": [],
   "source": [
    "# for the not aggregated case\n",
    "# test_dist_sizes = np.linspace(10, 40, 4).astype(int)\n",
    "# pvalues_mean_sample = []\n",
    "# proportion_mean_sample = []\n",
    "# confidence_intervals = []\n",
    "# for tds in test_dist_sizes:\n",
    "#     print(tds)\n",
    "#     p_values_means, proportion_means = covertness_kstest(data_movielens['pi_bs'], data_movielens['pi_final_NA'], population_movielens, ref_dist_size=10**4, test_dist_size=tds, N_bots=50, rounds=30)\n",
    "#     pvalues_mean_sample.append(p_values_means)\n",
    "#     proportion_mean_sample.append(proportion_means)"
   ]
  },
  {
   "cell_type": "code",
   "execution_count": null,
   "id": "c6125cb5",
   "metadata": {},
   "outputs": [
    {
     "name": "stdout",
     "output_type": "stream",
     "text": [
      "0/1060\n",
      "1/1060\n",
      "2/1060\n",
      "3/1060\n",
      "4/1060\n",
      "5/1060\n",
      "6/1060\n",
      "7/1060\n",
      "8/1060\n",
      "9/1060\n",
      "10/1060\n",
      "11/1060\n",
      "12/1060\n",
      "13/1060\n",
      "14/1060\n",
      "15/1060\n",
      "16/1060\n"
     ]
    }
   ],
   "source": [
    "files = os.listdir('./sim_results/')\n",
    "movielens_simulations_files = match_regex_array(files, r'sim_results_Umovielens.*')\n",
    "lastfm_simulations_files = match_regex_array(files, r'sim_results_Ulastfm.*')\n",
    "ks_movielens = []\n",
    "i = 0\n",
    "end = movielens_size\n",
    "for filename in movielens_simulations_files:\n",
    "    print(\"{}/{}\".format(i, end))\n",
    "    kstest_file(filename)\n",
    "    i+=1"
   ]
  },
  {
   "cell_type": "code",
   "execution_count": 139,
   "id": "50d1b121",
   "metadata": {},
   "outputs": [
    {
     "data": {
      "text/plain": [
       "0.1587782671880641"
      ]
     },
     "execution_count": 139,
     "metadata": {},
     "output_type": "execute_result"
    }
   ],
   "source": [
    "from scipy import stats\n",
    "rv = stats.expon(scale=1/0.247)\n",
    "rv.cdf(0.7)"
   ]
  },
  {
   "cell_type": "code",
   "execution_count": 178,
   "id": "5a9a545e",
   "metadata": {},
   "outputs": [],
   "source": [
    "exp_samples = stats.expon(scale=1/0.247).rvs(size=10**6)"
   ]
  },
  {
   "cell_type": "code",
   "execution_count": 179,
   "id": "aceedbad",
   "metadata": {},
   "outputs": [
    {
     "data": {
      "text/plain": [
       "KstestResult(statistic=0.000453357937850285, pvalue=0.9862728719610566)"
      ]
     },
     "execution_count": 179,
     "metadata": {},
     "output_type": "execute_result"
    }
   ],
   "source": [
    "ks_1samp(exp_samples, stats.expon(scale=1/0.247).cdf)"
   ]
  },
  {
   "cell_type": "code",
   "execution_count": 181,
   "id": "1b71d219",
   "metadata": {},
   "outputs": [],
   "source": [
    "# it seems that KStest doesn't work very well for discrete cdf. p value not making sense. It should be high.\n",
    "def cdf_(X):\n",
    "    if (type(X) == int):        \n",
    "        r = sum(data_movielens['pi_bs'][:X])\n",
    "    else:\n",
    "        r = [sum(data_movielens['pi_bs'][:x]) for x in X]\n",
    "    return r\n",
    "population = np.arange(movielens_size)\n",
    "samples = choices(population, data_movielens['pi_bs'], k=10**6)\n",
    "ks_1samp(samples, cdf_)"
   ]
  }
 ],
 "metadata": {
  "kernelspec": {
   "display_name": "Python 3 (ipykernel)",
   "language": "python",
   "name": "python3"
  },
  "language_info": {
   "codemirror_mode": {
    "name": "ipython",
    "version": 3
   },
   "file_extension": ".py",
   "mimetype": "text/x-python",
   "name": "python",
   "nbconvert_exporter": "python",
   "pygments_lexer": "ipython3",
   "version": "3.8.10"
  }
 },
 "nbformat": 4,
 "nbformat_minor": 5
}
