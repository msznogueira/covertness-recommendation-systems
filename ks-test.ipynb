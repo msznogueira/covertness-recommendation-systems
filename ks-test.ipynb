{
 "cells": [
  {
   "cell_type": "code",
   "execution_count": 10,
   "id": "18fcee7e",
   "metadata": {},
   "outputs": [],
   "source": [
    "import numpy as np\n",
    "from scipy.stats import ks_2samp, ks_1samp, kstest\n",
    "import json\n",
    "import pandas as pd\n",
    "import matplotlib.pyplot as plt\n",
    "from random import choices\n",
    "import os"
   ]
  },
  {
   "cell_type": "code",
   "execution_count": 11,
   "id": "d4c2c834",
   "metadata": {},
   "outputs": [],
   "source": [
    "import re\n",
    "def match_regex_array(files, regex):\n",
    "    matches = [re.findall(regex, f) for f in files]\n",
    "    matches = [\"./sim_results/\" + m[0] for m in matches if len(m) > 0 ]\n",
    "    return matches"
   ]
  },
  {
   "cell_type": "code",
   "execution_count": 60,
   "id": "6ee54f32",
   "metadata": {},
   "outputs": [],
   "source": [
    "# Apply KS-test using a large number of samples from the reference distribution \n",
    "# and a small sample from a \"test\" (in this case, the Network-Aware) distribution multiple times\n",
    "# Each test sample represents a bot consuming contents from NA-distribution\n",
    "# Function returns the mean of the p_values for all KS-tests performed for each bot\n",
    "# and the proportion of null hypothesis rejection, i.e., samples were not generated from the same distribution\n",
    "def covertness_kstest(ref_dist, test_dist, population, ref_dist_size=10**6, test_dist_size=10**3, N_bots = 100, rounds=20):\n",
    "    p_values_mean_rounds = []\n",
    "    rejection_proportions_rounds = []\n",
    "    ref_dist_large_samples = choices(population, ref_dist, k=ref_dist_size)\n",
    "    for i in range(rounds):\n",
    "        p_values = []        \n",
    "        for j in range(N_bots):\n",
    "            test_dist_samples = choices(population, test_dist, k=test_dist_size) # bot \"watches\" amount of contents\n",
    "            ks = ks_2samp(ref_dist_large_samples, test_dist_samples)\n",
    "            p_values.append(ks.pvalue)\n",
    "        p_values_mean = np.mean(p_values)\n",
    "        times_null_hypothesis_rejected = [1 if p_value < 0.05 else 0 for p_value in p_values]\n",
    "\n",
    "        p_values_mean_rounds.append(p_values_mean)\n",
    "        rejection_proportions_rounds.append(sum(times_null_hypothesis_rejected)/len(times_null_hypothesis_rejected))\n",
    "    return p_values_mean_rounds, rejection_proportions_rounds"
   ]
  },
  {
   "cell_type": "code",
   "execution_count": 61,
   "id": "b4bdf637",
   "metadata": {},
   "outputs": [],
   "source": [
    "data_lastfm = json.load(open(\"./sim_results/sim_results_Ulastfm_pop0_a0.5_N2_C5_CPtop_Q0.5_L40.json\"))\n",
    "lastfm_size = len(data_lastfm['p0'])\n",
    "data_movielens = json.load(open(\"./sim_results/sim_results_Umovielens1k_pop0_a0.5_N2_C5_CPtop_Q0.5_L1.json\"))\n",
    "movielens_size = len(data_movielens['p0'])\n",
    "population_movielens = np.arange(movielens_size)\n",
    "population_lastfm = np.arange(lastfm_size)"
   ]
  },
  {
   "cell_type": "code",
   "execution_count": 62,
   "id": "b0c30dc3",
   "metadata": {},
   "outputs": [
    {
     "name": "stdout",
     "output_type": "stream",
     "text": [
      "KStest between large samples bs and a small sample bs (expected high p-value)\n",
      "p_value:  0.5230573345710156\n",
      "0.028000000000000004\n",
      "KStest between large samples bs and a small sample NA (expected low p-value)\n",
      "p_value:  0.07120581914462606\n",
      "0.6100000000000001\n"
     ]
    }
   ],
   "source": [
    "# Consistency Check - we should see a small p-value when comparing samples from pi_NA \n",
    "# and a high p-value when using samples from pi_bs\n",
    "print(\"KStest between large samples bs and a small sample bs (expected high p-value)\")\n",
    "p_values_means, proportion_means = covertness_kstest(data_movielens['pi_bs'], data_movielens['pi_bs'], population_movielens, ref_dist_size=10**3, test_dist_size=10**2, N_bots=50)\n",
    "print(\"p_value: \" ,np.mean(p_values_means))\n",
    "print(np.mean(proportion_means))\n",
    "print(\"KStest between large samples bs and a small sample NA (expected low p-value)\")\n",
    "p_values_means, proportion_means = covertness_kstest(data_movielens['pi_bs'], data_movielens['pi_final_NA'], population_movielens, ref_dist_size=10**3, test_dist_size=10**2, N_bots=50)\n",
    "print(\"p_value: \", np.mean(p_values_means))\n",
    "print(np.mean(proportion_means))\n"
   ]
  },
  {
   "cell_type": "code",
   "execution_count": null,
   "id": "ce177f42-4c15-405c-b481-712195696ccf",
   "metadata": {},
   "outputs": [
    {
     "name": "stdout",
     "output_type": "stream",
     "text": [
      "10\n",
      "120\n",
      "230\n",
      "340\n",
      "450\n"
     ]
    }
   ],
   "source": [
    "test_dist_sizes = np.linspace(10, 1000, 10).astype(int)\n",
    "pvalues_mean_sample = []\n",
    "proportion_mean_sample = []\n",
    "for tds in test_dist_sizes:\n",
    "    print(tds)\n",
    "    p_values_means, proportion_means = covertness_kstest(data_movielens['pi_bs'], data_movielens['pi_final_NA'], population_movielens, ref_dist_size=10**4, test_dist_size=tds, N_bots=20)\n",
    "    pvalues_mean_sample.append(p_values_means)\n",
    "    proportion_mean_sample.append(proportion_means)"
   ]
  },
  {
   "cell_type": "code",
   "execution_count": null,
   "id": "01be0fd8-a862-4e70-a087-87d9bbf3c57b",
   "metadata": {},
   "outputs": [],
   "source": [
    "ci = 1.96 * np.std(y)/np.sqrt(len(x))\n"
   ]
  },
  {
   "cell_type": "code",
   "execution_count": 17,
   "id": "a693046b",
   "metadata": {},
   "outputs": [],
   "source": [
    "def kstest_file(filename):\n",
    "    try:\n",
    "        with open(filename, 'r') as f:\n",
    "            DATA = json.load(f)\n",
    "        population = np.arange(len(DATA['p0']))\n",
    "        file_result = open(\"./kstests/baseline/\" + filename.split(\"/\")[-1], \"w\")\n",
    "        p_values_means, rejection_proportions_means = covertness_kstest(DATA['pi_bs'], DATA['pi_bs'], population, ref_dist_size=10**3, test_dist_size=10**2)\n",
    "        file_result.write(\"p_values_mean: {}, rejection proportion: {}\".format(p_values_mean, rejection_proportion))\n",
    "        file_result.close()\n",
    "    except Exception as e:\n",
    "        print(e)"
   ]
  },
  {
   "cell_type": "code",
   "execution_count": null,
   "id": "a2a54b37-8871-4fe0-b92e-0c55f9bd3813",
   "metadata": {},
   "outputs": [],
   "source": [
    "def plot_rejection_proportion():\n",
    "    "
   ]
  },
  {
   "cell_type": "code",
   "execution_count": null,
   "id": "c6125cb5",
   "metadata": {},
   "outputs": [
    {
     "name": "stdout",
     "output_type": "stream",
     "text": [
      "0/1060\n",
      "1/1060\n",
      "2/1060\n",
      "3/1060\n",
      "4/1060\n",
      "5/1060\n",
      "6/1060\n",
      "7/1060\n",
      "8/1060\n",
      "9/1060\n",
      "10/1060\n",
      "11/1060\n",
      "12/1060\n",
      "13/1060\n",
      "14/1060\n",
      "15/1060\n",
      "16/1060\n"
     ]
    }
   ],
   "source": [
    "files = os.listdir('./sim_results/')\n",
    "movielens_simulations_files = match_regex_array(files, r'sim_results_Umovielens.*')\n",
    "lastfm_simulations_files = match_regex_array(files, r'sim_results_Ulastfm.*')\n",
    "ks_movielens = []\n",
    "i = 0\n",
    "end = movielens_size\n",
    "for filename in movielens_simulations_files:\n",
    "    print(\"{}/{}\".format(i, end))\n",
    "    kstest_file(filename)\n",
    "    i+=1"
   ]
  },
  {
   "cell_type": "code",
   "execution_count": 139,
   "id": "50d1b121",
   "metadata": {},
   "outputs": [
    {
     "data": {
      "text/plain": [
       "0.1587782671880641"
      ]
     },
     "execution_count": 139,
     "metadata": {},
     "output_type": "execute_result"
    }
   ],
   "source": [
    "from scipy import stats\n",
    "rv = stats.expon(scale=1/0.247)\n",
    "rv.cdf(0.7)"
   ]
  },
  {
   "cell_type": "code",
   "execution_count": 178,
   "id": "5a9a545e",
   "metadata": {},
   "outputs": [],
   "source": [
    "exp_samples = stats.expon(scale=1/0.247).rvs(size=10**6)"
   ]
  },
  {
   "cell_type": "code",
   "execution_count": 179,
   "id": "aceedbad",
   "metadata": {},
   "outputs": [
    {
     "data": {
      "text/plain": [
       "KstestResult(statistic=0.000453357937850285, pvalue=0.9862728719610566)"
      ]
     },
     "execution_count": 179,
     "metadata": {},
     "output_type": "execute_result"
    }
   ],
   "source": [
    "ks_1samp(exp_samples, stats.expon(scale=1/0.247).cdf)"
   ]
  },
  {
   "cell_type": "code",
   "execution_count": 181,
   "id": "1b71d219",
   "metadata": {},
   "outputs": [],
   "source": [
    "# it seems that KStest doesn't work very well for discrete cdf. p value not making sense. It should be high.\n",
    "def cdf_(X):\n",
    "    if (type(X) == int):        \n",
    "        r = sum(data_movielens['pi_bs'][:X])\n",
    "    else:\n",
    "        r = [sum(data_movielens['pi_bs'][:x]) for x in X]\n",
    "    return r\n",
    "population = np.arange(movielens_size)\n",
    "samples = choices(population, data_movielens['pi_bs'], k=10**6)\n",
    "ks_1samp(samples, cdf_)"
   ]
  }
 ],
 "metadata": {
  "kernelspec": {
   "display_name": "Python 3 (ipykernel)",
   "language": "python",
   "name": "python3"
  },
  "language_info": {
   "codemirror_mode": {
    "name": "ipython",
    "version": 3
   },
   "file_extension": ".py",
   "mimetype": "text/x-python",
   "name": "python",
   "nbconvert_exporter": "python",
   "pygments_lexer": "ipython3",
   "version": "3.8.10"
  }
 },
 "nbformat": 4,
 "nbformat_minor": 5
}
