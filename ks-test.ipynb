{
 "cells": [
  {
   "cell_type": "code",
   "execution_count": 1,
   "id": "18fcee7e",
   "metadata": {},
   "outputs": [],
   "source": [
    "import numpy as np\n",
    "from scipy.stats import ks_2samp, ks_1samp, kstest\n",
    "import json\n",
    "import pandas as pd\n",
    "import matplotlib.pyplot as plt\n",
    "from random import choices\n",
    "import os\n",
    "from scipy.stats import bernoulli\n",
    "from scipy.stats import zipf"
   ]
  },
  {
   "cell_type": "code",
   "execution_count": 2,
   "id": "d4c2c834",
   "metadata": {},
   "outputs": [],
   "source": [
    "import re\n",
    "def match_regex_array(files, regex):\n",
    "    matches = [re.findall(regex, f) for f in files]\n",
    "    matches = [\"./sim_results/\" + m[0] for m in matches if len(m) > 0 ]\n",
    "    return matches"
   ]
  },
  {
   "cell_type": "code",
   "execution_count": 3,
   "id": "6ee54f32",
   "metadata": {},
   "outputs": [],
   "source": [
    "# Apply KS-test using a large number of samples from the reference distribution \n",
    "# and a small sample from a \"test\" (in this case, the Network-Aware) distribution multiple times\n",
    "# Each test sample represents a bot consuming contents from NA-distribution\n",
    "# Function returns the mean of the p_values for all KS-tests performed for each bot\n",
    "# and the proportion of null hypothesis rejection, i.e., samples were not generated from the same distribution\n",
    "def covertness_kstest(ref_dist, test_dist, population, ref_dist_size=10**6, test_dist_size=10**3, N_bots = 100, rounds=30):\n",
    "    p_values_mean_rounds = []\n",
    "    rejection_proportions_rounds = []\n",
    "    ref_dist_large_samples = choices(population, ref_dist, k=ref_dist_size)\n",
    "    for i in range(rounds):\n",
    "        p_values = []        \n",
    "        null_hypothesis_rejections = 0\n",
    "        for j in range(N_bots):\n",
    "            test_dist_samples = choices(population, test_dist, k=test_dist_size) # bot \"watches\" amount of contents\n",
    "            ks = ks_2samp(ref_dist_large_samples, test_dist_samples)\n",
    "            p_values.append(ks.pvalue)\n",
    "            if (ks.pvalue < 0.05):\n",
    "                null_hypothesis_rejections += 1\n",
    "        p_values_mean = np.mean(p_values)\n",
    "        null_hypothesis_rejections /= N_bots\n",
    "\n",
    "        p_values_mean_rounds.append(p_values_mean)\n",
    "        rejection_proportions_rounds.append(np.mean(null_hypothesis_rejections))\n",
    "    return p_values_mean_rounds, rejection_proportions_rounds"
   ]
  },
  {
   "cell_type": "code",
   "execution_count": 4,
   "id": "8b3c35f7-d215-406c-8d75-2b4431ad9b84",
   "metadata": {},
   "outputs": [],
   "source": [
    "# aggregated mode\n",
    "def covertness_kstest_aggregate(baseline_samples, test_dist, population, test_dist_size=10**3, N_bots = 100, rounds=30):\n",
    "    p_values_rounds = []\n",
    "    null_hypothesis_rejections = 0\n",
    "    for i in range(rounds):\n",
    "        # print(\"round \", i, end=' ')\n",
    "        test_agg_samples = []\n",
    "        for j in range(N_bots):\n",
    "            test_dist_samples = choices(population, test_dist, k=test_dist_size) # bot \"watches\" amount of contents\n",
    "            test_agg_samples += test_dist_samples\n",
    "        ks = ks_2samp(baseline_samples, test_agg_samples)\n",
    "        if (ks.pvalue < 0.05):\n",
    "            null_hypothesis_rejections += 1\n",
    "        p_values_rounds.append(ks.pvalue)        \n",
    "    return p_values_rounds, null_hypothesis_rejections/rounds"
   ]
  },
  {
   "cell_type": "code",
   "execution_count": 5,
   "id": "b4bdf637",
   "metadata": {},
   "outputs": [],
   "source": [
    "path = \"/home/mateus/NFR-master/Simulator/sim_results/\"\n",
    "data_lastfm = json.load(open(path + \"sim_results_Ulastfm_pop0_a0.5_N2_C5_CPtop_Q0.5_L40.json\"))\n",
    "lastfm_size = len(data_lastfm['p0'])\n",
    "data_movielens = json.load(open(path + \"sim_results_Umovielens1k_pop1_a0.5_N10_C10_CPtop_Q0.9_L40.json\"))\n",
    "movielens_size = len(data_movielens['p0'])\n",
    "population_movielens = np.arange(movielens_size)\n",
    "population_lastfm = np.arange(lastfm_size)"
   ]
  },
  {
   "cell_type": "code",
   "execution_count": 52,
   "id": "5c5ea935-9b41-43d8-823f-def9a9517af1",
   "metadata": {},
   "outputs": [
    {
     "data": {
      "text/plain": [
       "array([[0.        , 1.        , 1.        , ..., 0.        , 0.        ,\n",
       "        0.        ],\n",
       "       [1.        , 0.        , 1.        , ..., 0.        , 0.        ,\n",
       "        0.        ],\n",
       "       [1.        , 1.        , 0.        , ..., 0.        , 0.        ,\n",
       "        0.        ],\n",
       "       ...,\n",
       "       [1.        , 0.21381536, 1.        , ..., 0.        , 1.        ,\n",
       "        0.        ],\n",
       "       [1.        , 0.01227714, 1.        , ..., 1.        , 0.        ,\n",
       "        0.        ],\n",
       "       [1.        , 0.13490273, 1.        , ..., 0.        , 0.        ,\n",
       "        0.        ]])"
      ]
     },
     "execution_count": 52,
     "metadata": {},
     "output_type": "execute_result"
    }
   ],
   "source": [
    "R_NA = np.array(data_movielens['R_NA'])\n",
    "R_NA"
   ]
  },
  {
   "cell_type": "code",
   "execution_count": 59,
   "id": "f897ba82-6819-43b8-b526-08df6b46be7d",
   "metadata": {},
   "outputs": [
    {
     "data": {
      "text/plain": [
       "0     0.313692\n",
       "1     1.000000\n",
       "2     1.000000\n",
       "3     1.000000\n",
       "4     1.000000\n",
       "5     1.000000\n",
       "6     1.000000\n",
       "7     1.000000\n",
       "8     1.000000\n",
       "9     1.000000\n",
       "10    0.686308\n",
       "dtype: float64"
      ]
     },
     "execution_count": 59,
     "metadata": {},
     "output_type": "execute_result"
    }
   ],
   "source": [
    "ri = R_NA[4]\n",
    "ri = np.array(ri)\n",
    "ri_idx = np.where(ri > 0)[0]\n",
    "ri = ri[ri>0]\n",
    "pd.Series(ri)\n",
    "# print(ri_idx)\n",
    "# print(ri)\n",
    "# choices(ri_idx, ri, k=1)[0]"
   ]
  },
  {
   "cell_type": "code",
   "execution_count": 39,
   "id": "69c3b77e-501c-41cc-b4b1-d2d29cc3c0ce",
   "metadata": {},
   "outputs": [],
   "source": [
    "# random walker\n",
    "\n",
    "def covertness_kstest_random_walker(baseline_samples, pi_bs, p0, R, N, alpha, N_bots, contents_per_bot, rounds, R_top=False):\n",
    "    R = np.array(R)\n",
    "    p0 = np.array(p0)\n",
    "    population = np.arange(len(p0))\n",
    "    proportions = []\n",
    "    for i in range(rounds):\n",
    "        null_hypothesis_rejections = 0\n",
    "        for j in range(N_bots):\n",
    "            consumed = []\n",
    "            first_content = choices(population, p0, k=1)[0]            \n",
    "            consumed.append(first_content)\n",
    "            current_content = first_content\n",
    "            for k in range(contents_per_bot):\n",
    "                follow_recommendation = bernoulli.rvs(p=alpha, size=1)[0]\n",
    "                if follow_recommendation:\n",
    "                    ri = R[current_content, :]\n",
    "                    ri_idx = np.where(ri > 0)[0] # index of > 0 elements\n",
    "                    ri = ri[ri > 0] # values of > 0 elements\n",
    "                    ri = pd.Series(data = ri, index = ri_idx)                                    \n",
    "#                     ri = ri.sort_values(ascending=False)\n",
    "#                     ri = ri.iloc[:N]\n",
    "#                     content = choices(population=ri.index, weights=ri.values, k=1)[0]\n",
    "                    content = choices(population=ri_idx, weights=np.repeat(1/len(ri_idx), len(ri_idx)), k=1)[0]\n",
    "                else:\n",
    "                    content = choices(population, p0, k=1)[0]\n",
    "                current_content = content\n",
    "                consumed.append(content) \n",
    "#             print(consumed)\n",
    "            return consumed\n",
    "            ks = ks_2samp(baseline_samples, consumed)\n",
    "            if (ks.pvalue < 0.05):\n",
    "                null_hypothesis_rejections += 1\n",
    "        proportions.append(null_hypothesis_rejections/N_bots)\n",
    "    return proportions\n",
    "                "
   ]
  },
  {
   "cell_type": "code",
   "execution_count": 24,
   "id": "d964c82f-f4ed-4c6e-ac31-08e1930e36f0",
   "metadata": {},
   "outputs": [],
   "source": [
    "baseline_samples = choices(population_movielens, data_movielens['pi_bs'], k=10**5)\n",
    "na_samples = choices(population_movielens, data_movielens['pi_final_NA'], k=10**5)"
   ]
  },
  {
   "cell_type": "code",
   "execution_count": 50,
   "id": "aff1ede5-1ec5-465f-8638-1501c2720e00",
   "metadata": {},
   "outputs": [
    {
     "data": {
      "text/plain": [
       "<matplotlib.collections.PathCollection at 0x7fbb3f1864f0>"
      ]
     },
     "execution_count": 50,
     "metadata": {},
     "output_type": "execute_result"
    },
    {
     "data": {
      "image/png": "[encoded data removed]",
      "text/plain": [
       "<Figure size 432x288 with 1 Axes>"
      ]
     },
     "metadata": {
      "needs_background": "light"
     },
     "output_type": "display_data"
    }
   ],
   "source": [
    "plt.scatter(np.arange(len(data_movielens['p0'])), data_movielens['p0'])"
   ]
  },
  {
   "cell_type": "code",
   "execution_count": 25,
   "id": "6180c599-5594-4e60-9e14-80e756a4d16f",
   "metadata": {},
   "outputs": [],
   "source": [
    "N = 10"
   ]
  },
  {
   "cell_type": "code",
   "execution_count": 40,
   "id": "f22133cd-2d5b-45a7-8673-f6a0dd63e0b4",
   "metadata": {},
   "outputs": [],
   "source": [
    "p = covertness_kstest_random_walker(baseline_samples, data_movielens['pi_bs'], data_movielens['p0'], data_movielens['R_NA'], N, 0.5, 10, 1000, 10, R_top=False)"
   ]
  },
  {
   "cell_type": "code",
   "execution_count": 41,
   "id": "0281bb48-216e-4d52-9422-772bc66a8661",
   "metadata": {},
   "outputs": [
    {
     "data": {
      "text/plain": [
       "(array([493.,  63.,  69., 122.,  46.,  47.,  32.,  41.,  41.,  47.]),\n",
       " array([   0. ,  105.9,  211.8,  317.7,  423.6,  529.5,  635.4,  741.3,\n",
       "         847.2,  953.1, 1059. ]),\n",
       " <BarContainer object of 10 artists>)"
      ]
     },
     "execution_count": 41,
     "metadata": {},
     "output_type": "execute_result"
    },
    {
     "data": {
      "image/png": "[encoded data removed]",
      "text/plain": [
       "<Figure size 432x288 with 1 Axes>"
      ]
     },
     "metadata": {
      "needs_background": "light"
     },
     "output_type": "display_data"
    }
   ],
   "source": [
    "plt.hist(p)"
   ]
  },
  {
   "cell_type": "code",
   "execution_count": 42,
   "id": "fcfd27d3-8d57-403b-a816-fcbcecfb6e37",
   "metadata": {},
   "outputs": [
    {
     "data": {
      "text/plain": [
       "KstestResult(statistic=0.11157428571428571, pvalue=3.354186877438563e-11)"
      ]
     },
     "execution_count": 42,
     "metadata": {},
     "output_type": "execute_result"
    },
    {
     "data": {
      "image/png": "[encoded data removed]",
      "text/plain": [
       "<Figure size 432x288 with 1 Axes>"
      ]
     },
     "metadata": {
      "needs_background": "light"
     },
     "output_type": "display_data"
    }
   ],
   "source": [
    "plt.hist(baseline_samples)\n",
    "kstest(baseline_samples, p)"
   ]
  },
  {
   "cell_type": "code",
   "execution_count": 43,
   "id": "78b82dc0-95a6-4a0e-ac5c-44248ab55eb5",
   "metadata": {},
   "outputs": [
    {
     "data": {
      "text/plain": [
       "KstestResult(statistic=0.021832427572427537, pvalue=0.723686714135759)"
      ]
     },
     "execution_count": 43,
     "metadata": {},
     "output_type": "execute_result"
    },
    {
     "data": {
      "image/png": "[encoded data removed]",
      "text/plain": [
       "<Figure size 432x288 with 1 Axes>"
      ]
     },
     "metadata": {
      "needs_background": "light"
     },
     "output_type": "display_data"
    }
   ],
   "source": [
    "plt.hist(na_samples)\n",
    "kstest(na_samples, p)"
   ]
  },
  {
   "cell_type": "code",
   "execution_count": 109,
   "id": "e3ae2782-3890-4b96-92d5-a4cac3f4adf0",
   "metadata": {},
   "outputs": [],
   "source": [
    "# # random walker\n",
    "\n",
    "# def covertness_kstest_random_walker(baseline_samples, R_NA, population, \\\n",
    "#                                     N_bots, alpha, contents_per_bot, rounds):\n",
    "#     for i in range(rounds):\n",
    "#         for j in range(N_bots):\n",
    "#             first_content = choices(population, baseline_dist, k=1)[0]\n",
    "#             contents_watched = []\n",
    "#             for k in range(contents_per_bot):\n",
    "#                 follow_recommendation = bernoulli.rvs(p=alpha, size=1)[0]\n",
    "#                 if follow_recommendation:\n",
    "#                     recommendations = R[first_content, :].argsort()[-N:][::-1]\n",
    "#                 else:\n",
    "#                     content = choices(population, baseline_dist, k=1)[0]\n",
    "                \n",
    "            "
   ]
  },
  {
   "cell_type": "code",
   "execution_count": null,
   "id": "6142d963-917c-458b-a095-7b264762a277",
   "metadata": {},
   "outputs": [],
   "source": [
    "# random walker\n",
    "\n",
    "def covertness_kstest_random_walker(baseline_samples, R_NA, population, \\\n",
    "                                    N_bots, alpha, contents_per_bot, rounds):\n",
    "    for i in range(rounds):\n",
    "        for j in range(N_bots):\n",
    "            first_content = choices(population, baseline_dist, k=1)[0]\n",
    "            contents_watched = []\n",
    "            for k in range(contents_per_bot):\n",
    "                follow_recommendation = bernoulli.rvs(p=alpha, size=1)[0]\n",
    "                if follow_recommendation:\n",
    "                    recommendations = R_NA[first_content, :].argsort()[-N:][::-1]\n",
    "                else:\n",
    "                    content = choices(population, baseline_dist, k=1)[0]"
   ]
  },
  {
   "cell_type": "code",
   "execution_count": 261,
   "id": "101137f2-18ef-48f4-b801-01c12e2c13f8",
   "metadata": {
    "tags": []
   },
   "outputs": [],
   "source": [
    "# aggregated mode\n",
    "def covertness_kstest_aggregate_random_contents_per_bot(baseline_samples, test_dist, population, contents_per_user_population, contents_per_user_dist, N_bots = 100, rounds=30):\n",
    "    p_values_rounds = []\n",
    "    null_hypothesis_rejections = 0\n",
    "    for i in range(rounds):\n",
    "        # print(\"round \", i, end=' ')\n",
    "        test_agg_samples = []\n",
    "        for j in range(N_bots):\n",
    "            test_dist_size = choices(contents_per_user_population, contents_per_user_dist, k=1)[0]\n",
    "            test_dist_samples = choices(population, test_dist, k=test_dist_size) # bot \"watches\" amount of contents\n",
    "            test_agg_samples += test_dist_samples\n",
    "        # print(len(test_agg_samples), end=\",\")\n",
    "        ks = ks_2samp(baseline_samples, test_agg_samples)\n",
    "        if (ks.pvalue < 0.05):\n",
    "            null_hypothesis_rejections += 1\n",
    "        p_values_rounds.append(ks.pvalue)        \n",
    "    return p_values_rounds, null_hypothesis_rejections/rounds"
   ]
  },
  {
   "cell_type": "code",
   "execution_count": 201,
   "id": "7a510605-1e00-49b6-8ba6-f68dbf2cedc9",
   "metadata": {},
   "outputs": [],
   "source": [
    "# getting distribution of number of ratings by users\n",
    "df = pd.read_csv(\"/home/mateus/movielens_dataset/ml-100k/u.data\", sep='\\t', \\\n",
    "                 names=['user id', 'item id', 'rating', 'timestamp'])\n"
   ]
  },
  {
   "cell_type": "code",
   "execution_count": 202,
   "id": "3bac530a-d1c9-4deb-a354-297f4fb9007e",
   "metadata": {},
   "outputs": [
    {
     "data": {
      "text/plain": [
       "(100000, 4)"
      ]
     },
     "execution_count": 202,
     "metadata": {},
     "output_type": "execute_result"
    }
   ],
   "source": [
    "df.shape"
   ]
  },
  {
   "cell_type": "code",
   "execution_count": 204,
   "id": "c3182044-c496-4849-aee6-a5fe3db1467c",
   "metadata": {},
   "outputs": [
    {
     "name": "stderr",
     "output_type": "stream",
     "text": [
      "/home/mateus/.local/lib/python3.8/site-packages/seaborn/_decorators.py:36: FutureWarning: Pass the following variable as a keyword arg: x. From version 0.12, the only valid positional argument will be `data`, and passing other arguments without an explicit keyword will result in an error or misinterpretation.\n",
      "  warnings.warn(\n"
     ]
    },
    {
     "data": {
      "text/plain": [
       "count    943.000000\n",
       "mean     106.044539\n",
       "std      100.931743\n",
       "min       20.000000\n",
       "25%       33.000000\n",
       "50%       65.000000\n",
       "75%      148.000000\n",
       "max      737.000000\n",
       "Name: user id, dtype: float64"
      ]
     },
     "execution_count": 204,
     "metadata": {},
     "output_type": "execute_result"
    },
    {
     "data": {
      "image/png": "[encoded data removed]",
      "text/plain": [
       "<Figure size 432x288 with 1 Axes>"
      ]
     },
     "metadata": {
      "needs_background": "light"
     },
     "output_type": "display_data"
    }
   ],
   "source": [
    "import seaborn as sns\n",
    "\n",
    "sns.boxplot(df['user id'].value_counts())\n",
    "df['user id'].value_counts().describe()"
   ]
  },
  {
   "cell_type": "code",
   "execution_count": 205,
   "id": "c25b7856-844c-4e75-b6fb-8ea373513e5b",
   "metadata": {},
   "outputs": [
    {
     "data": {
      "text/plain": [
       "(array([560., 183.,  96.,  55.,  25.,  15.,   5.,   1.,   1.,   2.]),\n",
       " array([ 20. ,  91.7, 163.4, 235.1, 306.8, 378.5, 450.2, 521.9, 593.6,\n",
       "        665.3, 737. ]),\n",
       " <BarContainer object of 10 artists>)"
      ]
     },
     "execution_count": 205,
     "metadata": {},
     "output_type": "execute_result"
    },
    {
     "data": {
      "image/png": "[encoded data removed]",
      "text/plain": [
       "<Figure size 432x288 with 1 Axes>"
      ]
     },
     "metadata": {
      "needs_background": "light"
     },
     "output_type": "display_data"
    }
   ],
   "source": [
    "plt.hist(df['user id'].value_counts())"
   ]
  },
  {
   "cell_type": "code",
   "execution_count": 206,
   "id": "b0c30dc3",
   "metadata": {},
   "outputs": [
    {
     "name": "stdout",
     "output_type": "stream",
     "text": [
      "KStest between large samples bs and a small sample NA (expected low p-value)\n"
     ]
    },
    {
     "data": {
      "text/plain": [
       "0.6333333333333333"
      ]
     },
     "execution_count": 206,
     "metadata": {},
     "output_type": "execute_result"
    }
   ],
   "source": [
    "# Consistency Check - we should see a small p-value when comparing samples from pi_NA \n",
    "# and a high p-value when using samples from pi_bs\n",
    "# print(\"KStest between large samples bs and a small sample bs (expected high p-value)\")\n",
    "# p_values_means, proportion_means = covertness_kstest(data_movielens['pi_bs'], data_movielens['pi_bs'], population_movielens, ref_dist_size=10**3, test_dist_size=10**2, N_bots=20)\n",
    "# print(\"p_value: \" ,np.mean(p_values_means))\n",
    "# print(np.mean(proportion_means))\n",
    "print(\"KStest between large samples bs and a small sample NA (expected low p-value)\")\n",
    "baseline_samples = choices(population_movielens, data_movielens['pi_bs'], k=10**4)\n",
    "p_values, proportion = covertness_kstest_aggregate(baseline_samples, data_movielens['pi_final_NA'], population_movielens, test_dist_size=20, N_bots=10, rounds=30)\n",
    "proportion\n",
    "# print(\"p_value: \", np.mean(p_values_means))\n",
    "# print(np.mean(proportion_means))\n"
   ]
  },
  {
   "cell_type": "code",
   "execution_count": 10,
   "id": "47798bae-a341-4dd0-9b2d-8bc1e987104c",
   "metadata": {},
   "outputs": [
    {
     "data": {
      "image/png": "[encoded data removed]",
      "text/plain": [
       "<Figure size 432x288 with 1 Axes>"
      ]
     },
     "metadata": {
      "needs_background": "light"
     },
     "output_type": "display_data"
    }
   ],
   "source": [
    "# It should have the shape of a normal distribution\n",
    "plt.hist(p_values)\n",
    "plt.show()"
   ]
  },
  {
   "cell_type": "code",
   "execution_count": 12,
   "id": "8b37d945-b3e3-484b-bcc4-53e5447c180f",
   "metadata": {},
   "outputs": [],
   "source": [
    "# It should have the shape of a normal distribution\n",
    "# plt.hist(proportion_means)\n",
    "# plt.show()"
   ]
  },
  {
   "cell_type": "code",
   "execution_count": 241,
   "id": "5047a729-ef89-4aab-8c16-8166864b1ed5",
   "metadata": {},
   "outputs": [],
   "source": [
    "def ci_proportion(p_hat, n):\n",
    "    std_hat = np.sqrt((p_hat*(1-p_hat))/n)\n",
    "    lower = p_hat - 1.96*std_hat\n",
    "    upper = p_hat + 1.96*std_hat\n",
    "    return lower, p_hat, upper"
   ]
  },
  {
   "cell_type": "code",
   "execution_count": 242,
   "id": "3b66aad8-a68a-49dc-b93b-81ffcfd92fb6",
   "metadata": {},
   "outputs": [],
   "source": [
    "# vc = df['user id'].value_counts()\n",
    "# unique, counts = np.unique(vc, return_counts=True)\n",
    "# unique_counts = np.asarray((unique, counts)).T\n",
    "# choices(unique, counts, k=10)"
   ]
  },
  {
   "cell_type": "code",
   "execution_count": 245,
   "id": "b8616c80-d939-4cd1-a931-8d52c6c8bb4e",
   "metadata": {},
   "outputs": [],
   "source": [
    "from os.path import exists\n",
    "def save_confidence_intervals(cis, test_dist_sizes, rounds, bots):\n",
    "    filename = \"confidence_interval_random_test_size\" + \"tds\" + str(test_dist_sizes[0]) + \\\n",
    "        \"-\" + str(test_dist_sizes[-1]) + \"_rounds_\" + str(rounds) + \\\n",
    "        \"_bots_\" + str(bots) + \".txt\"\n",
    "    if (not exists(filename)):\n",
    "        lowers = np.array([cis[i][0] for i in range(len(cis))])\n",
    "        means = np.array([cis[i][1] for i in range(len(cis))])\n",
    "        uppers = np.array([cis[i][2] for i in range(len(cis))])\n",
    "        f = open(filename, \"w\")\n",
    "        n_intervals = len(means)\n",
    "        for i in range(n_intervals):            \n",
    "            f.write(str(lowers[i]) + \",\" + str(means[i]) + \",\" + \\\n",
    "                    str(uppers[i]) + \"\\n\")\n",
    "        f.close()\n",
    "    else:\n",
    "        print(\"{} file already exists\".format(filename))\n",
    "    "
   ]
  },
  {
   "cell_type": "code",
   "execution_count": 262,
   "id": "d5ce4be4-e3de-4b88-8673-58792b1ac8d1",
   "metadata": {},
   "outputs": [
    {
     "name": "stdout",
     "output_type": "stream",
     "text": [
      "10,11,12,13,14,15,16,17,18,19,20,21,22,23,24,25,26,27,28,29,30,31,32,33,34,35,36,37,38,39,40,41,42,43,44,45,46,47,48,50,"
     ]
    }
   ],
   "source": [
    "test_dist_sizes = np.linspace(10, 50, 40).astype(int)\n",
    "proportions = []\n",
    "confidence_intervals = []\n",
    "ref_dist_size=10**3\n",
    "ref_dist = data_movielens['pi_bs']\n",
    "ref_dist_samples = choices(population_movielens, ref_dist, k=ref_dist_size)\n",
    "vcs = df['user id'].value_counts() \n",
    "# unique_counts = np.asarray((unique, counts)).T\n",
    "contents_per_user_population, contents_per_user_dist = np.unique(vcs, return_counts=True)\n",
    "nrounds = 100\n",
    "# n_bots = [10, 20, 30]\n",
    "n_bots = np.linspace(10, 50, 40).astype(int)\n",
    "cis = []\n",
    "for nbots in n_bots:\n",
    "    print(nbots, end=',')\n",
    "    # cis = []\n",
    "    # for tds in test_dist_sizes:\n",
    "        # print(tds, end=',')\n",
    "    p_values, proportion = covertness_kstest_aggregate_random_contents_per_bot(\\\n",
    "                                               ref_dist_samples, \\\n",
    "                                               data_movielens['pi_final_NA'], \\\n",
    "                                               population_movielens, \\\n",
    "                                               contents_per_user_population//10,\n",
    "                                               contents_per_user_dist,\n",
    "                                               N_bots=nbots, rounds=nrounds)\n",
    "    proportions.append(proportion)\n",
    "    cis.append(np.array(ci_proportion(proportion, nrounds)))\n",
    "save_confidence_intervals(cis, [0, 700], nrounds, nbots)"
   ]
  },
  {
   "cell_type": "code",
   "execution_count": 281,
   "id": "afe4c082-3980-4147-b17d-97dbb73bb77a",
   "metadata": {},
   "outputs": [
    {
     "data": {
      "image/png": "[encoded data removed]",
      "text/plain": [
       "<Figure size 432x288 with 1 Axes>"
      ]
     },
     "metadata": {
      "needs_background": "light"
     },
     "output_type": "display_data"
    }
   ],
   "source": [
    "plt.bar(contents_per_user_population, contents_per_user_dist)\n",
    "plt.xlabel(\"Contents per user\")\n",
    "plt.ylabel(\"Frequencies\")\n",
    "plt.savefig(\"contents_per_user_freq.png\")"
   ]
  },
  {
   "cell_type": "code",
   "execution_count": 282,
   "id": "5955839c-9c89-4729-8935-2ea2fff2ab1b",
   "metadata": {},
   "outputs": [
    {
     "data": {
      "image/png": "[encoded data removed]",
      "text/plain": [
       "<Figure size 432x288 with 1 Axes>"
      ]
     },
     "metadata": {
      "needs_background": "light"
     },
     "output_type": "display_data"
    }
   ],
   "source": [
    "plt.bar(contents_per_user_population//10, contents_per_user_dist)\n",
    "plt.xlabel(\"Contents per user\")\n",
    "plt.ylabel(\"Frequencies\")\n",
    "plt.savefig(\"contents_per_user_freq_div_10.png\")"
   ]
  },
  {
   "cell_type": "code",
   "execution_count": 263,
   "id": "0f40d893-aa7d-482b-8e2e-a286f9f85921",
   "metadata": {},
   "outputs": [],
   "source": [
    "# save_confidence_intervals(cis, test_dist_sizes, nrounds, nbots)"
   ]
  },
  {
   "cell_type": "code",
   "execution_count": 270,
   "id": "377cba32-5199-4501-8dd2-39e067293784",
   "metadata": {},
   "outputs": [],
   "source": [
    "def plot_confidence_intervals(x, filename, fig, ax, label, color):\n",
    "    try:\n",
    "        f = open(filename, \"r\")\n",
    "        cis = np.array([np.array(line.rstrip().split(\",\")).astype(float) for line in f.readlines()])        \n",
    "        lowers = np.around(cis[:, 0], decimals=2)\n",
    "        means = np.around(cis[:, 1], decimals=2)\n",
    "        uppers = np.around(cis[:, 2], decimals=2)\n",
    "        print(uppers)\n",
    "        if not fig or not ax:\n",
    "            fig, ax = plt.subplots()\n",
    "        ax.plot(x, means, label=label, color=color)\n",
    "        ax.fill_between(x, lowers, uppers, color=color, alpha=.1)\n",
    "        plt.xlabel(\"Number of bots\")\n",
    "        plt.ylabel(\"Proportion of null hypothesis rejections\")\n",
    "        # plt.savefig(\"proportions_nbots30.png\")\n",
    "        # plt.show()\n",
    "    except Exception as e:\n",
    "        print(e)"
   ]
  },
  {
   "cell_type": "code",
   "execution_count": 272,
   "id": "894cca4a-f997-4cdd-ba17-1a55af6a4db4",
   "metadata": {},
   "outputs": [
    {
     "name": "stdout",
     "output_type": "stream",
     "text": [
      "[0.54 0.62 0.71 0.66 0.71 0.74 0.74 0.84 0.87 0.78 0.84 0.84 0.86 0.84\n",
      " 0.92 0.89 0.9  0.93 0.95 0.95 0.98 0.9  0.99 0.97 0.97 0.97 0.95 0.97\n",
      " 0.97 0.99 1.01 0.98 1.01 1.   1.   1.01 1.01 1.01 1.01 1.01]\n"
     ]
    },
    {
     "data": {
      "image/png": "[encoded data removed]",
      "text/plain": [
       "<Figure size 432x288 with 1 Axes>"
      ]
     },
     "metadata": {
      "needs_background": "light"
     },
     "output_type": "display_data"
    }
   ],
   "source": [
    "fig, ax = plt.subplots()\n",
    "plot_confidence_intervals(n_bots, \"confidence_interval_random_test_sizetds0-700_rounds_100_bots_50.txt\", fig, ax, '', 'b')\n",
    "plt.savefig(\"proportions_nbots.png\")"
   ]
  },
  {
   "cell_type": "code",
   "execution_count": 132,
   "id": "7a25045d-472c-4875-8c6d-cb0abb642c54",
   "metadata": {},
   "outputs": [
    {
     "name": "stdout",
     "output_type": "stream",
     "text": [
      "[0.45 0.62 0.68 0.63 0.76 0.7  0.68 0.8  0.81 0.84 0.82 0.89 0.83 0.82\n",
      " 0.97 0.89 0.9  0.91 0.93 0.95 0.94 0.96 0.98 0.99 0.99 1.01 0.99 0.97\n",
      " 1.   1.01 0.99 1.   1.   1.   1.   1.   1.   1.   1.   1.01]\n",
      "[0.83 0.88 0.88 0.94 0.96 0.98 0.97 0.99 1.   1.   1.01 1.01 1.01 1.01\n",
      " 1.01 1.   1.   1.01 1.01 1.   1.   1.   1.   1.   1.   1.   1.   1.\n",
      " 1.   1.   1.   1.   1.   1.   1.   1.   1.   1.   1.   1.  ]\n",
      "[0.94 0.97 1.   0.99 1.   1.01 1.01 1.   1.01 1.01 1.   1.   1.   1.\n",
      " 1.   1.   1.   1.   1.   1.   1.   1.   1.   1.   1.   1.   1.   1.\n",
      " 1.   1.   1.   1.   1.   1.   1.   1.   1.   1.   1.   1.  ]\n"
     ]
    },
    {
     "data": {
      "image/png": "[encoded data removed]",
      "text/plain": [
       "<Figure size 432x288 with 1 Axes>"
      ]
     },
     "metadata": {
      "needs_background": "light"
     },
     "output_type": "display_data"
    }
   ],
   "source": [
    "fig, ax = plt.subplots()\n",
    "plot_confidence_intervals(test_dist_sizes, \"confidence_interval_tds10-50_rounds_100_bots_10.txt\", fig, ax, 'Bots=10', 'b')\n",
    "plot_confidence_intervals(test_dist_sizes, \"confidence_interval_tds10-50_rounds_100_bots_20.txt\", fig, ax, 'Bots=20', 'g')\n",
    "plot_confidence_intervals(test_dist_sizes, \"confidence_interval_tds10-50_rounds_100_bots_30.txt\", fig, ax, 'Bots=30', 'r')\n",
    "plt.legend()\n",
    "plt.savefig(\"proportions.png\")"
   ]
  },
  {
   "cell_type": "code",
   "execution_count": 23,
   "id": "46abc77c-8a1a-456c-a23e-07efdabffd9b",
   "metadata": {},
   "outputs": [],
   "source": [
    "# for the not aggregated case\n",
    "# test_dist_sizes = np.linspace(10, 40, 4).astype(int)\n",
    "# pvalues_mean_sample = []\n",
    "# proportion_mean_sample = []\n",
    "# confidence_intervals = []\n",
    "# for tds in test_dist_sizes:\n",
    "#     print(tds)\n",
    "#     p_values_means, proportion_means = covertness_kstest(data_movielens['pi_bs'], data_movielens['pi_final_NA'], population_movielens, ref_dist_size=10**4, test_dist_size=tds, N_bots=50, rounds=30)\n",
    "#     pvalues_mean_sample.append(p_values_means)\n",
    "#     proportion_mean_sample.append(proportion_means)"
   ]
  },
  {
   "cell_type": "code",
   "execution_count": null,
   "id": "4c9b3c1f-3c88-4b84-b48a-57b25ad65268",
   "metadata": {},
   "outputs": [],
   "source": [
    "# Random Walker\n",
    "\n"
   ]
  },
  {
   "cell_type": "code",
   "execution_count": null,
   "id": "c6125cb5",
   "metadata": {},
   "outputs": [
    {
     "name": "stdout",
     "output_type": "stream",
     "text": [
      "0/1060\n",
      "1/1060\n",
      "2/1060\n",
      "3/1060\n",
      "4/1060\n",
      "5/1060\n",
      "6/1060\n",
      "7/1060\n",
      "8/1060\n",
      "9/1060\n",
      "10/1060\n",
      "11/1060\n",
      "12/1060\n",
      "13/1060\n",
      "14/1060\n",
      "15/1060\n",
      "16/1060\n"
     ]
    }
   ],
   "source": [
    "files = os.listdir('./sim_results/')\n",
    "movielens_simulations_files = match_regex_array(files, r'sim_results_Umovielens.*')\n",
    "lastfm_simulations_files = match_regex_array(files, r'sim_results_Ulastfm.*')\n",
    "ks_movielens = []\n",
    "i = 0\n",
    "end = movielens_size\n",
    "for filename in movielens_simulations_files:\n",
    "    print(\"{}/{}\".format(i, end))\n",
    "    kstest_file(filename)\n",
    "    i+=1"
   ]
  }
 ],
 "metadata": {
  "kernelspec": {
   "display_name": "Python 3",
   "language": "python",
   "name": "python3"
  },
  "language_info": {
   "codemirror_mode": {
    "name": "ipython",
    "version": 3
   },
   "file_extension": ".py",
   "mimetype": "text/x-python",
   "name": "python",
   "nbconvert_exporter": "python",
   "pygments_lexer": "ipython3",
   "version": "3.8.10"
  }
 },
 "nbformat": 4,
 "nbformat_minor": 5
}
