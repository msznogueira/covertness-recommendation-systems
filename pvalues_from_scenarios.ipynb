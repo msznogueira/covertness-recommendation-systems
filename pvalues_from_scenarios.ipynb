{
 "cells": [
  {
   "cell_type": "code",
   "execution_count": 1,
   "id": "e9b85d5c",
   "metadata": {},
   "outputs": [],
   "source": [
    "import numpy as np\n",
    "import json\n",
    "import matplotlib.pyplot as plt\n",
    "import os\n",
    "import pandas as pd"
   ]
  },
  {
   "cell_type": "code",
   "execution_count": 2,
   "id": "9bef9a2d",
   "metadata": {},
   "outputs": [
    {
     "name": "stdout",
     "output_type": "stream",
     "text": [
      "0.5221139140613097\n",
      "0.5638221829824502\n",
      "0.5403250370519778\n",
      "0.4895118875655146\n",
      "0.5244353448437165\n",
      "0.5389167036443576\n",
      "0.5334589744706433\n",
      "0.552846357337603\n",
      "0.5737008844349667\n",
      "0.5000215520114462\n",
      "0.4992000802042147\n",
      "0.5589972835808229\n",
      "0.5382193362900755\n",
      "0.49347603603342605\n",
      "0.5227557013393697\n",
      "0.5326004121875488\n",
      "count    16.000000\n",
      "mean      0.530275\n",
      "std       0.025369\n",
      "min       0.489512\n",
      "25%       0.516591\n",
      "50%       0.533030\n",
      "75%       0.543455\n",
      "max       0.573701\n",
      "dtype: float64\n"
     ]
    }
   ],
   "source": [
    "import re\n",
    "# pvalue_regex = r'.*: (\\d+\\.\\d+[e+]?[e-]?\\d+)'\n",
    "pvalue_regex = r'p_values_mean: (\\d+\\.?\\d+)'\n",
    "\n",
    "pvalues = []\n",
    "files_kstest = os.listdir('./kstests/baseline/')\n",
    "for filename in files_kstest:\n",
    "    data = open('./kstests/baseline/' + filename).read()\n",
    "#     print(data)      \n",
    "    try:\n",
    "        p_value = float(re.search(pvalue_regex, data).group(1))\n",
    "        pvalues.append(p_value)\n",
    "        print(p_value)\n",
    "    except:\n",
    "        continue\n",
    "print(pd.Series(pvalues).describe())\n"
   ]
  },
  {
   "cell_type": "code",
   "execution_count": 3,
   "id": "58e7ea33",
   "metadata": {},
   "outputs": [
    {
     "data": {
      "text/plain": [
       "[<matplotlib.lines.Line2D at 0x7f478e669fd0>]"
      ]
     },
     "execution_count": 3,
     "metadata": {},
     "output_type": "execute_result"
    },
    {
     "data": {
      "image/png": "[encoded data removed]",
      "text/plain": [
       "<Figure size 432x288 with 1 Axes>"
      ]
     },
     "metadata": {
      "needs_background": "light"
     },
     "output_type": "display_data"
    }
   ],
   "source": [
    "import seaborn as sns\n",
    "\n",
    "pvalues_sorted = np.sort(pvalues)\n",
    "\n",
    "plt.plot(pvalues_sorted.cumsum()/pvalues_sorted.cumsum()[-1])"
   ]
  },
  {
   "cell_type": "code",
   "execution_count": 4,
   "id": "aaedc87d",
   "metadata": {},
   "outputs": [
    {
     "data": {
      "image/png": "[encoded data removed]",
      "text/plain": [
       "<Figure size 432x288 with 1 Axes>"
      ]
     },
     "metadata": {
      "needs_background": "light"
     },
     "output_type": "display_data"
    }
   ],
   "source": [
    "plt.axvline(0.05, c='r')\n",
    "sns.ecdfplot(pvalues_sorted)\n",
    "plt.xticks([0, 0.05, 0.1, 0.2, 0.3, 0.4, round(max(pvalues), 2)])\n",
    "plt.xlabel(\"pvalues\")\n",
    "plt.ylabel(\"CDF\")\n",
    "plt.savefig(\"kstest_pvalues_cdf_baseline.png\", format=\"png\")"
   ]
  }
 ],
 "metadata": {
  "kernelspec": {
   "display_name": "Python 3 (ipykernel)",
   "language": "python",
   "name": "python3"
  },
  "language_info": {
   "codemirror_mode": {
    "name": "ipython",
    "version": 3
   },
   "file_extension": ".py",
   "mimetype": "text/x-python",
   "name": "python",
   "nbconvert_exporter": "python",
   "pygments_lexer": "ipython3",
   "version": "3.8.10"
  }
 },
 "nbformat": 4,
 "nbformat_minor": 5
}
